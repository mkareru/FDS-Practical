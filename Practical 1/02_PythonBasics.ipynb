{
  "nbformat": 4,
  "nbformat_minor": 0,
  "metadata": {
    "colab": {
      "name": "02_PythonBasics.ipynb",
      "provenance": [],
      "collapsed_sections": []
    },
    "kernelspec": {
      "name": "python3",
      "display_name": "Python 3"
    }
  },
  "cells": [
    {
      "cell_type": "markdown",
      "metadata": {
        "id": "FelcukJf3YKN"
      },
      "source": [
        "# What is Python?\r\n",
        "\r\n",
        "Python is a popular programming language. It was created by Guido van Rossum, and released in 1991.\r\n",
        "\r\n",
        "It is used for:\r\n",
        "\r\n",
        "web development (server-side), software development, mathematics, system scripting.\r\n",
        "\r\n",
        "# Creating Variables\r\n",
        "\r\n",
        "Python has no command for declaring a variable.\r\n",
        "\r\n",
        "A variable is created the moment you first assign a value to it."
      ]
    },
    {
      "cell_type": "code",
      "metadata": {
        "colab": {
          "base_uri": "https://localhost:8080/"
        },
        "id": "qT7JFz8k3nk1",
        "outputId": "8680beeb-7367-4222-a480-29ff136d0ef2"
      },
      "source": [
        "x = 5\r\n",
        "y = \"John\"\r\n",
        "print(x)\r\n",
        "print(y)"
      ],
      "execution_count": 33,
      "outputs": [
        {
          "output_type": "stream",
          "text": [
            "5\n",
            "John\n"
          ],
          "name": "stdout"
        }
      ]
    },
    {
      "cell_type": "markdown",
      "metadata": {
        "id": "jkpAGSUa3qAk"
      },
      "source": [
        "# Casting\r\n",
        "\r\n",
        "If you want to specify the data type of a variable, this can be done with casting."
      ]
    },
    {
      "cell_type": "code",
      "metadata": {
        "colab": {
          "base_uri": "https://localhost:8080/"
        },
        "id": "vuPukGB23uxS",
        "outputId": "b6626b1f-f6da-40e2-9333-09c6f4299ae4"
      },
      "source": [
        "x = str(3)    # x will be '3'\r\n",
        "y = int(3)    # y will be 3\r\n",
        "z = float(3)  # z will be 3.0\r\n",
        "print(x,y,z)"
      ],
      "execution_count": 31,
      "outputs": [
        {
          "output_type": "stream",
          "text": [
            "3 3 3.0\n"
          ],
          "name": "stdout"
        }
      ]
    },
    {
      "cell_type": "markdown",
      "metadata": {
        "id": "oOlnbeLo3y2l"
      },
      "source": [
        "# Get the Type\r\n",
        "\r\n",
        "You can get the data type of a variable with the type() function."
      ]
    },
    {
      "cell_type": "code",
      "metadata": {
        "colab": {
          "base_uri": "https://localhost:8080/"
        },
        "id": "i1Eaj4uQ34Bc",
        "outputId": "3edd8253-383d-47cc-a8f9-58b11309afd9"
      },
      "source": [
        "x = 5\r\n",
        "y = \"John\"\r\n",
        "print(type(x))\r\n",
        "print(type(y))"
      ],
      "execution_count": 32,
      "outputs": [
        {
          "output_type": "stream",
          "text": [
            "<class 'int'>\n",
            "<class 'str'>\n"
          ],
          "name": "stdout"
        }
      ]
    },
    {
      "cell_type": "markdown",
      "metadata": {
        "id": "ZxgppQOn38ZA"
      },
      "source": [
        "# Global Variables\r\n",
        "\r\n",
        "Variables that are created outside of a function (as in all of the examples above) are known as global variables.\r\n",
        "\r\n",
        "Global variables can be used by everyone, both inside of functions and outside."
      ]
    },
    {
      "cell_type": "code",
      "metadata": {
        "colab": {
          "base_uri": "https://localhost:8080/"
        },
        "id": "JJ_bgbnm4CA6",
        "outputId": "cac9f929-693f-4e41-cf4c-c2527f516f63"
      },
      "source": [
        "x = \"awesome\"\r\n",
        "\r\n",
        "def myfunc():\r\n",
        "  x = \"fantastic\"\r\n",
        "  print(\"Python is \" + x)\r\n",
        "\r\n",
        "myfunc()\r\n",
        "\r\n",
        "print(\"Python is \" + x)"
      ],
      "execution_count": 30,
      "outputs": [
        {
          "output_type": "stream",
          "text": [
            "Python is fantastic\n",
            "Python is awesome\n"
          ],
          "name": "stdout"
        }
      ]
    },
    {
      "cell_type": "markdown",
      "metadata": {
        "id": "VInwf8-K4F9S"
      },
      "source": [
        "# The global Keyword\r\n",
        "\r\n",
        "Normally, when you create a variable inside a function, that variable is local, and can only be used inside that function.\r\n",
        "\r\n",
        "To create a global variable inside a function, you can use the global keyword."
      ]
    },
    {
      "cell_type": "code",
      "metadata": {
        "colab": {
          "base_uri": "https://localhost:8080/"
        },
        "id": "7JZK9B5B4IL9",
        "outputId": "e7dd0fd5-7d83-4915-a029-0c3d188bd8f6"
      },
      "source": [
        "x = \"awesome\"\r\n",
        "\r\n",
        "def myfunc():\r\n",
        "  global x\r\n",
        "  x = \"fantastic\"\r\n",
        "\r\n",
        "myfunc()\r\n",
        "\r\n",
        "print(\"Python is \" + x)"
      ],
      "execution_count": 29,
      "outputs": [
        {
          "output_type": "stream",
          "text": [
            "Python is fantastic\n"
          ],
          "name": "stdout"
        }
      ]
    },
    {
      "cell_type": "markdown",
      "metadata": {
        "id": "Kl1cWbvq4LOq"
      },
      "source": [
        "# Strings\r\n",
        "\r\n",
        "Strings in python are surrounded by either single quotation marks, or double quotation marks."
      ]
    },
    {
      "cell_type": "code",
      "metadata": {
        "colab": {
          "base_uri": "https://localhost:8080/"
        },
        "id": "6_yzAoCh4O9i",
        "outputId": "2942a8eb-a552-4b9a-f6ae-7be13d3a8226"
      },
      "source": [
        "a = \"Hello\"\r\n",
        "print(a)"
      ],
      "execution_count": 28,
      "outputs": [
        {
          "output_type": "stream",
          "text": [
            "Hello\n"
          ],
          "name": "stdout"
        }
      ]
    },
    {
      "cell_type": "markdown",
      "metadata": {
        "id": "BzqbV6Qo4R_0"
      },
      "source": [
        "# Looping Through a String\r\n",
        "\r\n",
        "Since strings are arrays, we can loop through the characters in a string, with a for loop."
      ]
    },
    {
      "cell_type": "code",
      "metadata": {
        "colab": {
          "base_uri": "https://localhost:8080/"
        },
        "id": "WT83iNVf4Xe4",
        "outputId": "f571aa37-6279-450b-cf6f-203c9ec43659"
      },
      "source": [
        "for x in \"banana\":\r\n",
        "  print(x)"
      ],
      "execution_count": 27,
      "outputs": [
        {
          "output_type": "stream",
          "text": [
            "b\n",
            "a\n",
            "n\n",
            "a\n",
            "n\n",
            "a\n"
          ],
          "name": "stdout"
        }
      ]
    },
    {
      "cell_type": "markdown",
      "metadata": {
        "id": "NEuin7tC4csW"
      },
      "source": [
        "*   **String Length**\r\n",
        "\r\n",
        "To get the length of a string, use the len() function."
      ]
    },
    {
      "cell_type": "code",
      "metadata": {
        "colab": {
          "base_uri": "https://localhost:8080/"
        },
        "id": "ivMbgy394q7p",
        "outputId": "874510e9-8ee8-44d2-a3b4-41ddf640d851"
      },
      "source": [
        "a = \"Hello, World!\"\r\n",
        "print(len(a))"
      ],
      "execution_count": 26,
      "outputs": [
        {
          "output_type": "stream",
          "text": [
            "13\n"
          ],
          "name": "stdout"
        }
      ]
    },
    {
      "cell_type": "markdown",
      "metadata": {
        "id": "MPVx2fUd4wSq"
      },
      "source": [
        "# **Boolean Values**\r\n",
        "\r\n",
        "In programming you often need to know if an expression is True or False.\r\n",
        "\r\n",
        "You can evaluate any expression in Python, and get one of two answers, True or False."
      ]
    },
    {
      "cell_type": "code",
      "metadata": {
        "colab": {
          "base_uri": "https://localhost:8080/"
        },
        "id": "bGoURI-p4uhF",
        "outputId": "2724e332-4b18-4614-d770-03a4ef90332c"
      },
      "source": [
        "a = 200\r\n",
        "b = 33\r\n",
        "\r\n",
        "if b > a:\r\n",
        "  print(\"b is greater than a\")\r\n",
        "else:\r\n",
        "  print(\"b is not greater than a\")"
      ],
      "execution_count": 25,
      "outputs": [
        {
          "output_type": "stream",
          "text": [
            "b is not greater than a\n"
          ],
          "name": "stdout"
        }
      ]
    },
    {
      "cell_type": "markdown",
      "metadata": {
        "id": "v8geBsx345Im"
      },
      "source": [
        "# **List**\r\n",
        "Lists are used to store multiple items in a single variable.\r\n",
        "\r\n",
        "Lists are one of 4 built-in data types in Python used to store collections of data, the other 3 are Tuple, Set, and Dictionary, all with different qualities and usage."
      ]
    },
    {
      "cell_type": "code",
      "metadata": {
        "colab": {
          "base_uri": "https://localhost:8080/"
        },
        "id": "ohd_MPLe5Az-",
        "outputId": "4ea7bb78-b4c0-4bf0-ce52-f282e53dc4c9"
      },
      "source": [
        "thislist = [\"apple\", \"banana\", \"cherry\"]\r\n",
        "print(thislist)"
      ],
      "execution_count": 24,
      "outputs": [
        {
          "output_type": "stream",
          "text": [
            "['apple', 'banana', 'cherry']\n"
          ],
          "name": "stdout"
        }
      ]
    },
    {
      "cell_type": "markdown",
      "metadata": {
        "id": "LifK2TIV5BnV"
      },
      "source": [
        "# **List Length**\r\n",
        "To determine how many items a list has, use the len() function:"
      ]
    },
    {
      "cell_type": "code",
      "metadata": {
        "colab": {
          "base_uri": "https://localhost:8080/"
        },
        "id": "2tVK734j5ITq",
        "outputId": "df84b367-afcc-4f61-d510-7018a3cd0709"
      },
      "source": [
        "thislist = [\"apple\", \"banana\", \"cherry\"]\r\n",
        "print(len(thislist))"
      ],
      "execution_count": 23,
      "outputs": [
        {
          "output_type": "stream",
          "text": [
            "3\n"
          ],
          "name": "stdout"
        }
      ]
    },
    {
      "cell_type": "markdown",
      "metadata": {
        "id": "mJqk2hCr5XFH"
      },
      "source": [
        "# **Access Items**\r\n",
        "List items are indexed and you can access them by referring to the index number:"
      ]
    },
    {
      "cell_type": "code",
      "metadata": {
        "colab": {
          "base_uri": "https://localhost:8080/"
        },
        "id": "B_Qs6HT75ZU-",
        "outputId": "df9e75a3-8a89-4383-8697-19345759883b"
      },
      "source": [
        "thislist = [\"apple\", \"banana\", \"cherry\"]\r\n",
        "print(thislist[1])\r\n",
        "print(thislist[-1])\r\n",
        "print(thislist[:2])"
      ],
      "execution_count": 22,
      "outputs": [
        {
          "output_type": "stream",
          "text": [
            "banana\n",
            "cherry\n",
            "['apple', 'banana']\n"
          ],
          "name": "stdout"
        }
      ]
    },
    {
      "cell_type": "markdown",
      "metadata": {
        "id": "X-fjsl3a5b3r"
      },
      "source": [
        "# **Change Item Value**\r\n",
        "To change the value of a specific item, refer to the index number:"
      ]
    },
    {
      "cell_type": "code",
      "metadata": {
        "colab": {
          "base_uri": "https://localhost:8080/"
        },
        "id": "808ZLPMA5gDm",
        "outputId": "afeb3422-1904-46a6-eada-7fc139eee9a6"
      },
      "source": [
        "thislist = [\"apple\", \"banana\", \"cherry\"]\r\n",
        "thislist[1] = \"blackcurrant\"\r\n",
        "print(thislist)"
      ],
      "execution_count": 21,
      "outputs": [
        {
          "output_type": "stream",
          "text": [
            "['apple', 'blackcurrant', 'cherry']\n"
          ],
          "name": "stdout"
        }
      ]
    },
    {
      "cell_type": "markdown",
      "metadata": {
        "id": "m16hZJxx5kdZ"
      },
      "source": [
        "# **Insert Items**\r\n",
        "To insert a new list item, without replacing any of the existing values, we can use the insert() method.\r\n",
        "\r\n",
        "The insert() method inserts an item at the specified index:"
      ]
    },
    {
      "cell_type": "code",
      "metadata": {
        "colab": {
          "base_uri": "https://localhost:8080/"
        },
        "id": "sRE-37bq5oHz",
        "outputId": "c680c1a1-6e4b-47db-cb08-e53bdc5628c1"
      },
      "source": [
        "thislist = [\"apple\", \"banana\", \"cherry\"]\r\n",
        "thislist.insert(2, \"watermelon\")\r\n",
        "print(thislist)"
      ],
      "execution_count": 20,
      "outputs": [
        {
          "output_type": "stream",
          "text": [
            "['apple', 'banana', 'watermelon', 'cherry']\n"
          ],
          "name": "stdout"
        }
      ]
    },
    {
      "cell_type": "markdown",
      "metadata": {
        "id": "NPyG3guN5qcQ"
      },
      "source": [
        "# **Append Items**\r\n",
        "To add an item to the end of the list, use the append() method:"
      ]
    },
    {
      "cell_type": "code",
      "metadata": {
        "colab": {
          "base_uri": "https://localhost:8080/"
        },
        "id": "-t7uMXWO5xNV",
        "outputId": "5074a0eb-8f82-4e1b-fd77-169d0937318e"
      },
      "source": [
        "thislist = [\"apple\", \"banana\", \"cherry\"]\r\n",
        "thislist.append(\"orange\")\r\n",
        "print(thislist)"
      ],
      "execution_count": 19,
      "outputs": [
        {
          "output_type": "stream",
          "text": [
            "['apple', 'banana', 'cherry', 'orange']\n"
          ],
          "name": "stdout"
        }
      ]
    },
    {
      "cell_type": "markdown",
      "metadata": {
        "id": "tBL-FyEz5zxZ"
      },
      "source": [
        "# **Extend List**\r\n",
        "To append elements from another list to the current list, use the extend() method."
      ]
    },
    {
      "cell_type": "code",
      "metadata": {
        "colab": {
          "base_uri": "https://localhost:8080/"
        },
        "id": "riGXQ7tb53-C",
        "outputId": "2483f21d-f2ad-40c7-db67-7a839e77072c"
      },
      "source": [
        "hislist = [\"apple\", \"banana\", \"cherry\"]\r\n",
        "tropical = [\"mango\", \"pineapple\", \"papaya\"]\r\n",
        "thislist.extend(tropical)\r\n",
        "print(thislist)"
      ],
      "execution_count": 18,
      "outputs": [
        {
          "output_type": "stream",
          "text": [
            "['apple', 'cherry', 'mango', 'pineapple', 'papaya']\n"
          ],
          "name": "stdout"
        }
      ]
    },
    {
      "cell_type": "markdown",
      "metadata": {
        "id": "CMVw1yr-56Ip"
      },
      "source": [
        "# **Remove Specified Item**\r\n",
        "The remove() method removes the specified item."
      ]
    },
    {
      "cell_type": "code",
      "metadata": {
        "colab": {
          "base_uri": "https://localhost:8080/"
        },
        "id": "HBAHkNfR5-Y9",
        "outputId": "c356b84f-70a2-421d-ac48-c7ccd0671749"
      },
      "source": [
        "thislist = [\"apple\", \"banana\", \"cherry\"]\r\n",
        "thislist.remove(\"banana\")\r\n",
        "print(thislist)"
      ],
      "execution_count": 17,
      "outputs": [
        {
          "output_type": "stream",
          "text": [
            "['apple', 'cherry']\n"
          ],
          "name": "stdout"
        }
      ]
    },
    {
      "cell_type": "markdown",
      "metadata": {
        "id": "FP9bkjmP6CmU"
      },
      "source": [
        "# **Remove Specified Index**\r\n",
        "The pop() method removes the specified index.\r\n",
        "\r\n",
        "Example"
      ]
    },
    {
      "cell_type": "code",
      "metadata": {
        "colab": {
          "base_uri": "https://localhost:8080/"
        },
        "id": "atGjJ0xu6GB3",
        "outputId": "8d7dd51d-e765-48fa-d09b-422182339025"
      },
      "source": [
        "thislist = [\"apple\", \"banana\", \"cherry\"]\r\n",
        "thislist.pop(1)\r\n",
        "print(thislist)"
      ],
      "execution_count": 16,
      "outputs": [
        {
          "output_type": "stream",
          "text": [
            "['apple', 'cherry']\n"
          ],
          "name": "stdout"
        }
      ]
    },
    {
      "cell_type": "markdown",
      "metadata": {
        "id": "4eat7aih6IsC"
      },
      "source": [
        "# **List Comprehension**\r\n",
        "List comprehension offers a shorter syntax when you want to create a new list based on the values of an existing list."
      ]
    },
    {
      "cell_type": "code",
      "metadata": {
        "colab": {
          "base_uri": "https://localhost:8080/"
        },
        "id": "GJl2Kj9H6ISA",
        "outputId": "60b6a8b0-1acf-4abf-cb01-bd73214dafc9"
      },
      "source": [
        "fruits = [\"apple\", \"banana\", \"cherry\", \"kiwi\", \"mango\"]\r\n",
        "\r\n",
        "newlist = [x for x in fruits if \"a\" in x]\r\n",
        "\r\n",
        "print(newlist)"
      ],
      "execution_count": 15,
      "outputs": [
        {
          "output_type": "stream",
          "text": [
            "['apple', 'banana', 'mango']\n"
          ],
          "name": "stdout"
        }
      ]
    },
    {
      "cell_type": "markdown",
      "metadata": {
        "id": "JBzgNYA86Pkp"
      },
      "source": [
        "# **Sort List Alphanumerically**\r\n",
        "List objects have a sort() method that will sort the list alphanumerically, ascending, by default:"
      ]
    },
    {
      "cell_type": "code",
      "metadata": {
        "colab": {
          "base_uri": "https://localhost:8080/"
        },
        "id": "MsUS8u906PAw",
        "outputId": "ca378d20-b7e3-4a5e-e08d-450433d51b4f"
      },
      "source": [
        "thislist = [100, 50, 65, 82, 23]\r\n",
        "thislist.sort()\r\n",
        "print(thislist)\r\n",
        "thislist.sort(reverse = True)\r\n",
        "print(thislist)"
      ],
      "execution_count": 14,
      "outputs": [
        {
          "output_type": "stream",
          "text": [
            "[23, 50, 65, 82, 100]\n",
            "[100, 82, 65, 50, 23]\n"
          ],
          "name": "stdout"
        }
      ]
    },
    {
      "cell_type": "markdown",
      "metadata": {
        "id": "MFkCPKxU6OjS"
      },
      "source": [
        "# **Copy a List**\r\n",
        "You cannot copy a list simply by typing list2 = list1, because: list2 will only be a reference to list1, and changes made in list1 will automatically also be made in list2."
      ]
    },
    {
      "cell_type": "code",
      "metadata": {
        "colab": {
          "base_uri": "https://localhost:8080/"
        },
        "id": "Jp1HMpXB6bca",
        "outputId": "ab7c56c5-2af8-49a4-cbe3-e7365264e7ca"
      },
      "source": [
        "thislist = [\"apple\", \"banana\", \"cherry\"]\r\n",
        "mylist = thislist.copy()\r\n",
        "print(mylist)"
      ],
      "execution_count": 13,
      "outputs": [
        {
          "output_type": "stream",
          "text": [
            "['apple', 'banana', 'cherry']\n"
          ],
          "name": "stdout"
        }
      ]
    },
    {
      "cell_type": "markdown",
      "metadata": {
        "id": "KbI1-BMo6e1S"
      },
      "source": [
        "# **Tuple**\r\n",
        "Tuples are used to store multiple items in a single variable.\r\n",
        "\r\n",
        "Tuple is one of 4 built-in data types in Python used to store collections of data, the other 3 are List, Set, and Dictionary, all with different qualities and usage.\r\n",
        "\r\n",
        "A tuple is a collection which is ordered and unchangeable.\r\n",
        "\r\n",
        "Tuples are written with round brackets."
      ]
    },
    {
      "cell_type": "code",
      "metadata": {
        "colab": {
          "base_uri": "https://localhost:8080/"
        },
        "id": "bQRLfJh46eZW",
        "outputId": "12562a89-de8b-4c17-a6bb-2bf32032d50c"
      },
      "source": [
        "thistuple = (\"apple\", \"banana\", \"cherry\")\r\n",
        "print(thistuple)"
      ],
      "execution_count": 12,
      "outputs": [
        {
          "output_type": "stream",
          "text": [
            "('apple', 'banana', 'cherry')\n"
          ],
          "name": "stdout"
        }
      ]
    },
    {
      "cell_type": "markdown",
      "metadata": {
        "id": "T1wdlNNY6eJP"
      },
      "source": [
        "# **Access Tuple Items**\r\n",
        "You can access tuple items by referring to the index number, inside square brackets:"
      ]
    },
    {
      "cell_type": "code",
      "metadata": {
        "colab": {
          "base_uri": "https://localhost:8080/"
        },
        "id": "f4me87cS6qB3",
        "outputId": "342df4b7-8509-4a49-9489-564688054e58"
      },
      "source": [
        "thistuple = (\"apple\", \"banana\", \"cherry\")\r\n",
        "print(thistuple[1])\r\n",
        "print(thistuple[-1])\r\n",
        "print(thistuple[1:3])"
      ],
      "execution_count": 11,
      "outputs": [
        {
          "output_type": "stream",
          "text": [
            "banana\n",
            "cherry\n",
            "('banana', 'cherry')\n"
          ],
          "name": "stdout"
        }
      ]
    },
    {
      "cell_type": "markdown",
      "metadata": {
        "id": "LykmlqvN6pb7"
      },
      "source": [
        "# **Loop Through a Tuple**\r\n",
        "You can loop through the tuple items by using a for loop."
      ]
    },
    {
      "cell_type": "code",
      "metadata": {
        "colab": {
          "base_uri": "https://localhost:8080/"
        },
        "id": "A7McWOOm6pG4",
        "outputId": "0525f8f5-f32e-4601-e25b-bfa1089440ce"
      },
      "source": [
        "thistuple = (\"apple\", \"banana\", \"cherry\")\r\n",
        "for x in thistuple:\r\n",
        "  print(x)\r\n",
        "for i in range(len(thistuple)):\r\n",
        "  print(thistuple[i])"
      ],
      "execution_count": 9,
      "outputs": [
        {
          "output_type": "stream",
          "text": [
            "apple\n",
            "banana\n",
            "cherry\n",
            "apple\n",
            "banana\n",
            "cherry\n"
          ],
          "name": "stdout"
        }
      ]
    },
    {
      "cell_type": "markdown",
      "metadata": {
        "id": "Vg3kDV-Y6op5"
      },
      "source": [
        "# **Join Two Tuples**\r\n",
        "To join two or more tuples you can use the + operator:"
      ]
    },
    {
      "cell_type": "code",
      "metadata": {
        "colab": {
          "base_uri": "https://localhost:8080/"
        },
        "id": "FPLpQiZz61xJ",
        "outputId": "4a81647f-8fa7-421e-b69c-75ea00c70b7e"
      },
      "source": [
        "tuple1 = (\"a\", \"b\" , \"c\")\r\n",
        "tuple2 = (1, 2, 3)\r\n",
        "\r\n",
        "tuple3 = tuple1 + tuple2\r\n",
        "print(tuple3)\r\n",
        "fruits = (\"apple\", \"banana\", \"cherry\")\r\n",
        "mytuple = fruits * 2\r\n",
        "\r\n",
        "print(mytuple)"
      ],
      "execution_count": 10,
      "outputs": [
        {
          "output_type": "stream",
          "text": [
            "('a', 'b', 'c', 1, 2, 3)\n",
            "('apple', 'banana', 'cherry', 'apple', 'banana', 'cherry')\n"
          ],
          "name": "stdout"
        }
      ]
    },
    {
      "cell_type": "markdown",
      "metadata": {
        "id": "Xkf_5NpUB6bt"
      },
      "source": [
        "# **Set**\r\n",
        "Sets are used to store multiple items in a single variable.\r\n",
        "\r\n",
        "Set is one of 4 built-in data types in Python used to store collections of data, the other 3 are List, Tuple, and Dictionary, all with different qualities and usage.\r\n",
        "\r\n",
        "A set is a collection which is both unordered and unindexed.\r\n",
        "\r\n",
        "Sets are written with curly brackets."
      ]
    },
    {
      "cell_type": "code",
      "metadata": {
        "colab": {
          "base_uri": "https://localhost:8080/"
        },
        "id": "pPoAMrPDB_b-",
        "outputId": "446e9081-1ebb-48bb-bf9a-b535d0228159"
      },
      "source": [
        "thisset = {\"apple\", \"banana\", \"cherry\"}\r\n",
        "print(thisset)"
      ],
      "execution_count": 7,
      "outputs": [
        {
          "output_type": "stream",
          "text": [
            "{'cherry', 'banana', 'apple'}\n"
          ],
          "name": "stdout"
        }
      ]
    },
    {
      "cell_type": "markdown",
      "metadata": {
        "id": "tYQC8dSfCEQ5"
      },
      "source": [
        "# **Access Items**\r\n",
        "You cannot access items in a set by referring to an index or a key.\r\n",
        "\r\n",
        "But you can loop through the set items using a for loop, or ask if a specified value is present in a set, by using the in keyword."
      ]
    },
    {
      "cell_type": "code",
      "metadata": {
        "colab": {
          "base_uri": "https://localhost:8080/"
        },
        "id": "EHgtl22aCGag",
        "outputId": "f9818349-cc09-483a-b87d-ca1ec5bc08ce"
      },
      "source": [
        "thisset = {\"apple\", \"banana\", \"cherry\"}\r\n",
        "\r\n",
        "for x in thisset:\r\n",
        "  print(x)"
      ],
      "execution_count": 6,
      "outputs": [
        {
          "output_type": "stream",
          "text": [
            "cherry\n",
            "banana\n",
            "apple\n"
          ],
          "name": "stdout"
        }
      ]
    },
    {
      "cell_type": "markdown",
      "metadata": {
        "id": "xxlJcZmICKua"
      },
      "source": [
        "# **Add Items**\r\n",
        "Once a set is created, you cannot change its items, but you can add new items."
      ]
    },
    {
      "cell_type": "code",
      "metadata": {
        "colab": {
          "base_uri": "https://localhost:8080/"
        },
        "id": "Iv40oOdpCPZv",
        "outputId": "de55b054-cdeb-48bf-85bd-c80504f8b8b7"
      },
      "source": [
        "thisset = {\"apple\", \"banana\", \"cherry\"}\r\n",
        "\r\n",
        "thisset.add(\"orange\")\r\n",
        "\r\n",
        "print(thisset)"
      ],
      "execution_count": 5,
      "outputs": [
        {
          "output_type": "stream",
          "text": [
            "{'cherry', 'banana', 'apple', 'orange'}\n"
          ],
          "name": "stdout"
        }
      ]
    },
    {
      "cell_type": "markdown",
      "metadata": {
        "id": "pDSTIipoCQFm"
      },
      "source": [
        "# **Join Two Sets**\r\n",
        "There are several ways to join two or more sets in Python.\r\n",
        "\r\n",
        "You can use the union() method that returns a new set containing all items from both sets, or the update() method that inserts all the items from one set into another:"
      ]
    },
    {
      "cell_type": "code",
      "metadata": {
        "colab": {
          "base_uri": "https://localhost:8080/"
        },
        "id": "Q3TB74foCV_w",
        "outputId": "fd542b8f-c0c5-40e0-d4b7-c74a6786cbc6"
      },
      "source": [
        "set1 = {\"a\", \"b\" , \"c\"}\r\n",
        "set2 = {1, 2, 3}\r\n",
        "\r\n",
        "set3 = set1.union(set2)\r\n",
        "print(set3)"
      ],
      "execution_count": 4,
      "outputs": [
        {
          "output_type": "stream",
          "text": [
            "{1, 2, 3, 'a', 'c', 'b'}\n"
          ],
          "name": "stdout"
        }
      ]
    },
    {
      "cell_type": "markdown",
      "metadata": {
        "id": "8F2JTJC9CWxZ"
      },
      "source": [
        "# **Python Conditions and If statements**"
      ]
    },
    {
      "cell_type": "code",
      "metadata": {
        "colab": {
          "base_uri": "https://localhost:8080/"
        },
        "id": "uvHcxackCcke",
        "outputId": "90590de0-305d-4192-9e2e-320fcf2fedb0"
      },
      "source": [
        "a = 33\r\n",
        "b = 33\r\n",
        "if b > a:\r\n",
        "  print(\"b is greater than a\")\r\n",
        "elif a == b:\r\n",
        "  print(\"a and b are equal\")"
      ],
      "execution_count": 3,
      "outputs": [
        {
          "output_type": "stream",
          "text": [
            "a and b are equal\n"
          ],
          "name": "stdout"
        }
      ]
    },
    {
      "cell_type": "markdown",
      "metadata": {
        "id": "YlzFRwcICgTE"
      },
      "source": [
        "# **Loops**"
      ]
    },
    {
      "cell_type": "code",
      "metadata": {
        "colab": {
          "base_uri": "https://localhost:8080/"
        },
        "id": "v1e3FcMdCiNB",
        "outputId": "256a7fd8-1f67-4e02-9148-dca438e4efd0"
      },
      "source": [
        "\r\n",
        "i = 1\r\n",
        "while i < 6:\r\n",
        "  print(i)\r\n",
        "  i += 1\r\n",
        "\r\n",
        "fruits = [\"apple\", \"banana\", \"cherry\"]\r\n",
        "for x in fruits:\r\n",
        "  if x == \"banana\":\r\n",
        "    break\r\n",
        "  print(x)"
      ],
      "execution_count": 2,
      "outputs": [
        {
          "output_type": "stream",
          "text": [
            "1\n",
            "2\n",
            "3\n",
            "4\n",
            "5\n",
            "apple\n"
          ],
          "name": "stdout"
        }
      ]
    },
    {
      "cell_type": "markdown",
      "metadata": {
        "id": "zAyBYmHUCq_V"
      },
      "source": [
        "# **Python Functions**"
      ]
    },
    {
      "cell_type": "code",
      "metadata": {
        "colab": {
          "base_uri": "https://localhost:8080/"
        },
        "id": "Xkyn1n68CuyT",
        "outputId": "85764bd2-ceab-4ae0-d701-5e20daac578c"
      },
      "source": [
        "def my_function(fname):\r\n",
        "  print(fname + \" Refsnes\")\r\n",
        "\r\n",
        "my_function(\"Emil\")\r\n",
        "my_function(\"Tobias\")\r\n",
        "my_function(\"Linus\")"
      ],
      "execution_count": 1,
      "outputs": [
        {
          "output_type": "stream",
          "text": [
            "Emil Refsnes\n",
            "Tobias Refsnes\n",
            "Linus Refsnes\n"
          ],
          "name": "stdout"
        }
      ]
    }
  ]
}
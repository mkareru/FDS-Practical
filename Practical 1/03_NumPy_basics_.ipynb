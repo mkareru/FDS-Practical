{
  "nbformat": 4,
  "nbformat_minor": 0,
  "metadata": {
    "colab": {
      "name": "Python NumPy .ipynb",
      "provenance": [],
      "collapsed_sections": []
    },
    "kernelspec": {
      "name": "python3",
      "display_name": "Python 3"
    }
  },
  "cells": [
    {
      "cell_type": "markdown",
      "metadata": {
        "id": "wj59hUHCKppK"
      },
      "source": [
        "**What is NumPy?**\r\n",
        "\r\n",
        "**NumPy is a Python library used for working with arrays.**\r\n",
        "\r\n",
        "It also has functions for working in domain of linear algebra, fourier transform, and matrices.\r\n",
        "\r\n",
        "NumPy was created in 2005 by Travis Oliphant. It is an open source project and you can use it freely. \r\n",
        "\r\n",
        "NumPy stands for Numerical Python."
      ]
    },
    {
      "cell_type": "markdown",
      "metadata": {
        "id": "EOecNMksLFGe"
      },
      "source": [
        "**Why Use NumPy?**\r\n",
        "\r\n",
        "**In Python we have lists that serve the purpose of arrays, but they are slow to process.**\r\n",
        "\r\n",
        "NumPy aims to provide an array object that is up to 50x faster than traditional Python lists.\r\n",
        "\r\n",
        "The array object in NumPy is called ndarray, it provides a lot of supporting functions that make working with ndarray very easy.\r\n",
        "\r\n",
        "Arrays are very frequently used in data science, where speed and resources are very important."
      ]
    },
    {
      "cell_type": "markdown",
      "metadata": {
        "id": "zS2yDQoBLmk4"
      },
      "source": [
        "**Why is NumPy Faster Than Lists?**\r\n",
        "\r\n",
        "NumPy arrays are stored at one continuous place in memory unlike lists, so processes can access and manipulate them very efficiently.\r\n",
        "\r\n",
        "This behavior is called locality of reference in computer science.\r\n",
        "\r\n",
        "This is the main reason why NumPy is faster than lists. Also it is optimized to work with latest CPU architectures."
      ]
    },
    {
      "cell_type": "markdown",
      "metadata": {
        "id": "Nx_m_7QHLq_i"
      },
      "source": [
        "**Which Language is NumPy written in?**\r\n",
        "\r\n",
        "NumPy is a Python library and is written partially in Python, but most of the parts that require fast computation are written in C or C++."
      ]
    },
    {
      "cell_type": "markdown",
      "metadata": {
        "id": "GUyuhSMKMJad"
      },
      "source": [
        "**To Install NumPy**"
      ]
    },
    {
      "cell_type": "code",
      "metadata": {
        "colab": {
          "base_uri": "https://localhost:8080/"
        },
        "id": "9uOtJnQNMNcV",
        "outputId": "e5e6b2b0-ba0b-4c12-e89f-0ad329744e30"
      },
      "source": [
        "pip install numpy"
      ],
      "execution_count": null,
      "outputs": [
        {
          "output_type": "stream",
          "text": [
            "Requirement already satisfied: numpy in /usr/local/lib/python3.7/dist-packages (1.20.1)\n"
          ],
          "name": "stdout"
        }
      ]
    },
    {
      "cell_type": "markdown",
      "metadata": {
        "id": "N8dopZefMWMh"
      },
      "source": [
        "**Import NumPy**\r\n",
        "\r\n",
        "Once NumPy is installed, import it in your applications by adding the import keyword:"
      ]
    },
    {
      "cell_type": "code",
      "metadata": {
        "id": "0SexIMYiLBSY"
      },
      "source": [
        "import numpy\r\n",
        "\r\n",
        "#Now NumPy is imported and ready to use."
      ],
      "execution_count": null,
      "outputs": []
    },
    {
      "cell_type": "markdown",
      "metadata": {
        "id": "_7n_doWcMrM4"
      },
      "source": [
        "**Example**"
      ]
    },
    {
      "cell_type": "code",
      "metadata": {
        "colab": {
          "base_uri": "https://localhost:8080/"
        },
        "id": "PVIm74szMtRK",
        "outputId": "06a3e9ba-18d4-4561-d8de-13b867423ea4"
      },
      "source": [
        "import numpy\r\n",
        "\r\n",
        "arr = numpy.array([1, 2, 3, 4, 5])\r\n",
        "\r\n",
        "print(arr)"
      ],
      "execution_count": null,
      "outputs": [
        {
          "output_type": "stream",
          "text": [
            "[1 2 3 4 5]\n"
          ],
          "name": "stdout"
        }
      ]
    },
    {
      "cell_type": "markdown",
      "metadata": {
        "id": "RB7yZFcMM34F"
      },
      "source": [
        "**NumPy as np**\r\n",
        "\r\n",
        "NumPy is usually imported under the np alias."
      ]
    },
    {
      "cell_type": "markdown",
      "metadata": {
        "id": "7rb-GSZ_M-_4"
      },
      "source": [
        "Create an alias with the as keyword while importing:"
      ]
    },
    {
      "cell_type": "code",
      "metadata": {
        "id": "ehchWUbMNABt"
      },
      "source": [
        "import numpy as np"
      ],
      "execution_count": null,
      "outputs": []
    },
    {
      "cell_type": "markdown",
      "metadata": {
        "id": "qxcyCUgnNHTl"
      },
      "source": [
        "**Now the NumPy package can be referred to as np instead of numpy.**"
      ]
    },
    {
      "cell_type": "markdown",
      "metadata": {
        "id": "4GvLdLLMNPLf"
      },
      "source": [
        "**Example**"
      ]
    },
    {
      "cell_type": "code",
      "metadata": {
        "colab": {
          "base_uri": "https://localhost:8080/"
        },
        "id": "mHVwqrbYNJnT",
        "outputId": "8e5fb445-e877-40e1-ec54-c7b8d030ef79"
      },
      "source": [
        "import numpy as np\r\n",
        "\r\n",
        "arr = np.array([1, 2, 3, 4, 5])\r\n",
        "\r\n",
        "print(arr)"
      ],
      "execution_count": null,
      "outputs": [
        {
          "output_type": "stream",
          "text": [
            "[1 2 3 4 5]\n"
          ],
          "name": "stdout"
        }
      ]
    },
    {
      "cell_type": "markdown",
      "metadata": {
        "id": "FDXme-DbNbYS"
      },
      "source": [
        "**Checking NumPy Version**\r\n",
        "\r\n",
        "The version string is stored under __version__ attribute."
      ]
    },
    {
      "cell_type": "code",
      "metadata": {
        "colab": {
          "base_uri": "https://localhost:8080/"
        },
        "id": "uv0B-WcyNm71",
        "outputId": "a8bc43ba-7016-4d7d-d525-f5524316c2a6"
      },
      "source": [
        "import numpy as np\r\n",
        "\r\n",
        "print(np.__version__)"
      ],
      "execution_count": null,
      "outputs": [
        {
          "output_type": "stream",
          "text": [
            "1.19.5\n"
          ],
          "name": "stdout"
        }
      ]
    },
    {
      "cell_type": "markdown",
      "metadata": {
        "id": "2DByGZhsN_Gw"
      },
      "source": [
        "**To upgrade NumPy**"
      ]
    },
    {
      "cell_type": "code",
      "metadata": {
        "colab": {
          "base_uri": "https://localhost:8080/"
        },
        "id": "T-GHA_vAN1IO",
        "outputId": "66c5b7af-3581-45cb-9e57-c930344e9453"
      },
      "source": [
        "pip install numpy --upgrade"
      ],
      "execution_count": null,
      "outputs": [
        {
          "output_type": "stream",
          "text": [
            "Requirement already up-to-date: numpy in /usr/local/lib/python3.7/dist-packages (1.20.1)\n"
          ],
          "name": "stdout"
        }
      ]
    },
    {
      "cell_type": "markdown",
      "metadata": {
        "id": "r5A_PLNfOFKQ"
      },
      "source": [
        "**Create a NumPy ndarray Object**\r\n",
        "\r\n",
        "NumPy is used to work with arrays. The array object in NumPy is called ndarray.\r\n",
        "\r\n",
        "We can create a NumPy ndarray object by using the array() function."
      ]
    },
    {
      "cell_type": "markdown",
      "metadata": {
        "id": "1gb6LVXCOafw"
      },
      "source": [
        "**Example**"
      ]
    },
    {
      "cell_type": "code",
      "metadata": {
        "colab": {
          "base_uri": "https://localhost:8080/"
        },
        "id": "u3RX6dGVOc18",
        "outputId": "e33806a1-8df5-4dd9-e91c-15337655a41c"
      },
      "source": [
        "import numpy as np\r\n",
        "\r\n",
        "arr = np.array([1, 2, 3, 4, 5])\r\n",
        "\r\n",
        "print(arr)\r\n",
        "\r\n",
        "print(type(arr))"
      ],
      "execution_count": null,
      "outputs": [
        {
          "output_type": "stream",
          "text": [
            "[1 2 3 4 5]\n",
            "<class 'numpy.ndarray'>\n"
          ],
          "name": "stdout"
        }
      ]
    },
    {
      "cell_type": "markdown",
      "metadata": {
        "id": "w_Er4tDcOuik"
      },
      "source": [
        "type(): This built-in Python function tells us the type of the object passed to it. Like in above code it shows that arr is numpy.ndarray type."
      ]
    },
    {
      "cell_type": "markdown",
      "metadata": {
        "id": "VjeySg9NPd0p"
      },
      "source": [
        "**To create an ndarray, we can pass a list, tuple or any array-like object into the array() method, and it will be converted into an ndarray:**"
      ]
    },
    {
      "cell_type": "markdown",
      "metadata": {
        "id": "paWEt_InPscG"
      },
      "source": [
        "**Example**\r\n",
        "\r\n",
        "**Use a tuple to create a NumPy array: **"
      ]
    },
    {
      "cell_type": "code",
      "metadata": {
        "colab": {
          "base_uri": "https://localhost:8080/"
        },
        "id": "1Ozk3wKUPmlU",
        "outputId": "01c1286d-b632-4339-8bd3-d0c8831b3fd4"
      },
      "source": [
        "import numpy as np\r\n",
        "\r\n",
        "arr = np.array((1, 2, 3, 4, 5))\r\n",
        "\r\n",
        "print(arr)"
      ],
      "execution_count": null,
      "outputs": [
        {
          "output_type": "stream",
          "text": [
            "[1 2 3 4 5]\n"
          ],
          "name": "stdout"
        }
      ]
    },
    {
      "cell_type": "markdown",
      "metadata": {
        "id": "bZQNQxXGQaen"
      },
      "source": [
        "**Dimensions in Arrays**\r\n",
        "\r\n",
        "**A dimension in arrays is one level of array depth (nested arrays).**\r\n",
        "\r\n",
        "**nested array: are arrays that have arrays as their elements.**"
      ]
    },
    {
      "cell_type": "markdown",
      "metadata": {
        "id": "fd-xLOX1QzcT"
      },
      "source": [
        "**0-D Arrays**\r\n",
        "\r\n",
        "0-D arrays, or Scalars, are the elements in an array. Each value in an array is a 0-D array."
      ]
    },
    {
      "cell_type": "markdown",
      "metadata": {
        "id": "5EOeWQpuQ9O7"
      },
      "source": [
        "**Example**\r\n",
        "\r\n",
        "**Create a 0-D array with value 42**"
      ]
    },
    {
      "cell_type": "code",
      "metadata": {
        "colab": {
          "base_uri": "https://localhost:8080/"
        },
        "id": "ikCJdbQGQhbx",
        "outputId": "2702adb6-8247-434a-d079-cf7d135ba527"
      },
      "source": [
        "import numpy as np\r\n",
        "\r\n",
        "arr = np.array(42)\r\n",
        "\r\n",
        "print(arr)"
      ],
      "execution_count": null,
      "outputs": [
        {
          "output_type": "stream",
          "text": [
            "42\n"
          ],
          "name": "stdout"
        }
      ]
    },
    {
      "cell_type": "markdown",
      "metadata": {
        "id": "hvGgZCzoRPPQ"
      },
      "source": [
        "**1-D Arrays**\r\n",
        "\r\n",
        "**An array that has 0-D arrays as its elements is called uni-dimensional or 1-D array.**\r\n",
        "\r\n",
        "**These are the most common and basic arrays.**"
      ]
    },
    {
      "cell_type": "markdown",
      "metadata": {
        "id": "F8P7qcgXRcBs"
      },
      "source": [
        "**Example**\r\n",
        "\r\n",
        "**Create a 1-D array containing the values 1,2,3,4,5:**"
      ]
    },
    {
      "cell_type": "code",
      "metadata": {
        "colab": {
          "base_uri": "https://localhost:8080/"
        },
        "id": "Ar_HXOhARY1J",
        "outputId": "ef7a252d-cce0-4a6d-93ca-d8f557076330"
      },
      "source": [
        "import numpy as np\r\n",
        "\r\n",
        "arr = np.array([1, 2, 3, 4, 5])\r\n",
        "\r\n",
        "print(arr)"
      ],
      "execution_count": null,
      "outputs": [
        {
          "output_type": "stream",
          "text": [
            "[1 2 3 4 5]\n"
          ],
          "name": "stdout"
        }
      ]
    },
    {
      "cell_type": "markdown",
      "metadata": {
        "id": "OHvh9tJJRvNa"
      },
      "source": [
        "**2-D Arrays**\r\n",
        "**An array that has 1-D arrays as its elements is called a 2-D array.**\r\n",
        "\r\n",
        "**These are often used to represent matrix or 2nd order tensors.**"
      ]
    },
    {
      "cell_type": "markdown",
      "metadata": {
        "id": "ulrktslFR3eo"
      },
      "source": [
        "**NumPy has a whole sub module dedicated towards matrix operations called numpy.mat**"
      ]
    },
    {
      "cell_type": "markdown",
      "metadata": {
        "id": "RXdQVVafSEKu"
      },
      "source": [
        "**Example**\r\n",
        "\r\n",
        "**Create a 2-D array containing two arrays with the values 1,2,3 and 4,5,6:**"
      ]
    },
    {
      "cell_type": "code",
      "metadata": {
        "colab": {
          "base_uri": "https://localhost:8080/"
        },
        "id": "lgpGn2f0SHJD",
        "outputId": "62de4c25-24e3-485f-c10d-81e289528e78"
      },
      "source": [
        "import numpy as np\r\n",
        "\r\n",
        "arr = np.array([[1, 2, 3], [4, 5, 6]])\r\n",
        "\r\n",
        "print(arr)"
      ],
      "execution_count": null,
      "outputs": [
        {
          "output_type": "stream",
          "text": [
            "[[1 2 3]\n",
            " [4 5 6]]\n"
          ],
          "name": "stdout"
        }
      ]
    },
    {
      "cell_type": "markdown",
      "metadata": {
        "id": "JDrDVS6aSO_r"
      },
      "source": [
        "**3-D arrays**\r\n",
        "\r\n",
        "**An array that has 2-D arrays (matrices) as its elements is called 3-D array.**\r\n",
        "\r\n",
        "**These are often used to represent a 3rd order tensor.**"
      ]
    },
    {
      "cell_type": "markdown",
      "metadata": {
        "id": "2Yfxb55JSbq5"
      },
      "source": [
        "**Example**\r\n",
        "\r\n",
        "**Create a 3-D array with two 2-D arrays, both containing two arrays with the values 1,2,3 and 4,5,6:**"
      ]
    },
    {
      "cell_type": "code",
      "metadata": {
        "colab": {
          "base_uri": "https://localhost:8080/"
        },
        "id": "SnWVnzuUS7YF",
        "outputId": "84a68007-ea30-4e18-9baf-3541c6e7d7e3"
      },
      "source": [
        "import numpy as np\r\n",
        "\r\n",
        "arr = np.array([[[1, 2, 3], [4, 5, 6]], [[1, 2, 3], [4, 5, 6]]])\r\n",
        "\r\n",
        "print(arr)"
      ],
      "execution_count": null,
      "outputs": [
        {
          "output_type": "stream",
          "text": [
            "[[[1 2 3]\n",
            "  [4 5 6]]\n",
            "\n",
            " [[1 2 3]\n",
            "  [4 5 6]]]\n"
          ],
          "name": "stdout"
        }
      ]
    },
    {
      "cell_type": "markdown",
      "metadata": {
        "id": "-RwBB-JKTG3x"
      },
      "source": [
        "**Check Number of Dimensions?**\r\n",
        "\r\n",
        "**NumPy Arrays provides the ndim attribute that returns an integer that tells us how many dimensions the array have.**"
      ]
    },
    {
      "cell_type": "markdown",
      "metadata": {
        "id": "egCTRWzKTUEd"
      },
      "source": [
        "**Example**\r\n",
        "\r\n",
        "**Check how many dimensions the arrays have:**"
      ]
    },
    {
      "cell_type": "code",
      "metadata": {
        "id": "QCelKQ8ITNeV",
        "colab": {
          "base_uri": "https://localhost:8080/"
        },
        "outputId": "69eb6a9b-f4b9-47d5-a495-63f84b207220"
      },
      "source": [
        "import numpy as np\r\n",
        "\r\n",
        "a = np.array(42)\r\n",
        "b = np.array([1, 2, 3, 4, 5])\r\n",
        "c = np.array([[1, 2, 3], [4, 5, 6]])\r\n",
        "d = np.array([[[1, 2, 3], [4, 5, 6]], [[1, 2, 3], [4, 5, 6]]])\r\n",
        "\r\n",
        "print(a.ndim)\r\n",
        "print(b.ndim)\r\n",
        "print(c.ndim)\r\n",
        "print(d.ndim)\r\n"
      ],
      "execution_count": null,
      "outputs": [
        {
          "output_type": "stream",
          "text": [
            "0\n",
            "1\n",
            "2\n",
            "3\n"
          ],
          "name": "stdout"
        }
      ]
    },
    {
      "cell_type": "markdown",
      "metadata": {
        "id": "Pe1pf04cUG_p"
      },
      "source": [
        "**Higher Dimensional Arrays**\r\n",
        "\r\n",
        "**An array can have any number of dimensions.**\r\n",
        "\r\n",
        "**When the array is created, you can define the number of dimensions by using the ndmin argument.**"
      ]
    },
    {
      "cell_type": "markdown",
      "metadata": {
        "id": "dtCWN4PojNey"
      },
      "source": [
        "**Example**\r\n",
        "\r\n",
        "**Create an array with 5 dimensions and verify that it has 5 dimensions:**"
      ]
    },
    {
      "cell_type": "code",
      "metadata": {
        "colab": {
          "base_uri": "https://localhost:8080/"
        },
        "id": "-LdxVYbujFTu",
        "outputId": "300fd92a-dffe-43a9-efab-c2710123027a"
      },
      "source": [
        "import numpy as np\r\n",
        "\r\n",
        "arr = np.array([1, 2, 3, 4], ndmin=5)\r\n",
        "\r\n",
        "print(arr)\r\n",
        "print('number of dimensions :', arr.ndim)"
      ],
      "execution_count": null,
      "outputs": [
        {
          "output_type": "stream",
          "text": [
            "[[[[[1 2 3 4]]]]]\n",
            "number of dimensions : 5\n"
          ],
          "name": "stdout"
        }
      ]
    },
    {
      "cell_type": "markdown",
      "metadata": {
        "id": "iMWYCmL8jnUM"
      },
      "source": [
        "**In this array the innermost dimension (5th dim) has 4 elements, the 4th dim has 1 element that is the vector, the 3rd dim has 1 element that is the matrix with the vector, the 2nd dim has 1 element that is 3D array and 1st dim has 1 element that is a 4D array.**"
      ]
    },
    {
      "cell_type": "markdown",
      "metadata": {
        "id": "1P33EBJFjyDK"
      },
      "source": [
        "**NumPy Array Indexing**"
      ]
    },
    {
      "cell_type": "markdown",
      "metadata": {
        "id": "nGZ6EJrkj8gR"
      },
      "source": [
        "**Array indexing is the same as accessing an array element.**\r\n",
        "\r\n",
        "**You can access an array element by referring to its index number.**\r\n",
        "\r\n",
        "**The indexes in NumPy arrays start with 0, meaning that the first element has index 0, and the second has index 1 etc.**"
      ]
    },
    {
      "cell_type": "markdown",
      "metadata": {
        "id": "mSVAHW6VkSxy"
      },
      "source": [
        "**Example**\r\n",
        "\r\n",
        "**Get the first element from the following array:**"
      ]
    },
    {
      "cell_type": "code",
      "metadata": {
        "colab": {
          "base_uri": "https://localhost:8080/"
        },
        "id": "CzNQsZq2kPW4",
        "outputId": "a34173d2-41c8-441c-8e6d-1f766a8d4a69"
      },
      "source": [
        "import numpy as np\r\n",
        "\r\n",
        "arr = np.array([1, 2, 3, 4])\r\n",
        "\r\n",
        "print(arr[0])"
      ],
      "execution_count": null,
      "outputs": [
        {
          "output_type": "stream",
          "text": [
            "1\n"
          ],
          "name": "stdout"
        }
      ]
    },
    {
      "cell_type": "markdown",
      "metadata": {
        "id": "q8RVDXPLkfUC"
      },
      "source": [
        "**Example**\r\n",
        "\r\n",
        "**Get the second element from the following array.**"
      ]
    },
    {
      "cell_type": "code",
      "metadata": {
        "colab": {
          "base_uri": "https://localhost:8080/"
        },
        "id": "NALmT1cJjrYp",
        "outputId": "0059ecc5-7052-4067-cb54-6265d8c2a6e7"
      },
      "source": [
        "import numpy as np\r\n",
        "\r\n",
        "arr = np.array([1, 2, 3, 4])\r\n",
        "\r\n",
        "print(arr[1])"
      ],
      "execution_count": null,
      "outputs": [
        {
          "output_type": "stream",
          "text": [
            "2\n"
          ],
          "name": "stdout"
        }
      ]
    },
    {
      "cell_type": "markdown",
      "metadata": {
        "id": "yWJuDdm9kriC"
      },
      "source": [
        "**Example**\r\n",
        "\r\n",
        "**Get third and fourth elements from the following array and add them.**"
      ]
    },
    {
      "cell_type": "code",
      "metadata": {
        "colab": {
          "base_uri": "https://localhost:8080/"
        },
        "id": "R4YkFcfQkv0f",
        "outputId": "2f8a4868-87c8-414a-cecb-c5b28260bd1d"
      },
      "source": [
        "import numpy as np\r\n",
        "\r\n",
        "arr = np.array([1, 2, 3, 4])\r\n",
        "\r\n",
        "print(arr[2] + arr[3])"
      ],
      "execution_count": null,
      "outputs": [
        {
          "output_type": "stream",
          "text": [
            "7\n"
          ],
          "name": "stdout"
        }
      ]
    },
    {
      "cell_type": "markdown",
      "metadata": {
        "id": "B67dRA0xk8k8"
      },
      "source": [
        "**Access 2-D Arrays**\r\n",
        "\r\n",
        "To access elements from 2-D arrays we can use comma separated integers representing the dimension and the index of the element."
      ]
    },
    {
      "cell_type": "markdown",
      "metadata": {
        "id": "q-pcdjH0lEBJ"
      },
      "source": [
        "**Example**\r\n",
        "\r\n",
        "**Access the 2nd element on 1st dim:**"
      ]
    },
    {
      "cell_type": "code",
      "metadata": {
        "colab": {
          "base_uri": "https://localhost:8080/"
        },
        "id": "tZMw6gPqlA6H",
        "outputId": "9f383ce5-ef25-4b5b-a0a5-c2dca54a61ee"
      },
      "source": [
        "import numpy as np\r\n",
        "\r\n",
        "arr = np.array([[1,2,3,4,5], [6,7,8,9,10]])\r\n",
        "\r\n",
        "print('2nd element on 1st dim: ', arr[0, 1])"
      ],
      "execution_count": null,
      "outputs": [
        {
          "output_type": "stream",
          "text": [
            "2nd element on 1st dim:  2\n"
          ],
          "name": "stdout"
        }
      ]
    },
    {
      "cell_type": "markdown",
      "metadata": {
        "id": "Sp8iWulflVli"
      },
      "source": [
        "**Example**\r\n",
        "\r\n",
        "**Access the 5th element on 2nd dim:**"
      ]
    },
    {
      "cell_type": "code",
      "metadata": {
        "colab": {
          "base_uri": "https://localhost:8080/"
        },
        "id": "7cvrXYZ2lZ6V",
        "outputId": "2b333e1b-9006-43a5-b433-8c96d4335afe"
      },
      "source": [
        "import numpy as np\r\n",
        "\r\n",
        "arr = np.array([[1,2,3,4,5], [6,7,8,9,10]])\r\n",
        "\r\n",
        "print('5th element on 2nd dim: ', arr[1, 4])"
      ],
      "execution_count": null,
      "outputs": [
        {
          "output_type": "stream",
          "text": [
            "5th element on 2nd dim:  10\n"
          ],
          "name": "stdout"
        }
      ]
    },
    {
      "cell_type": "markdown",
      "metadata": {
        "id": "oa1Qjf1alip0"
      },
      "source": [
        "**Access 3-D Arrays**\r\n",
        "\r\n",
        "To access elements from 3-D arrays we can use comma separated integers representing the dimensions and the index of the element."
      ]
    },
    {
      "cell_type": "markdown",
      "metadata": {
        "id": "SNTXha0PlroJ"
      },
      "source": [
        "**Example**\r\n",
        "\r\n",
        "**Access the third element of the second array of the first array:**"
      ]
    },
    {
      "cell_type": "code",
      "metadata": {
        "colab": {
          "base_uri": "https://localhost:8080/"
        },
        "id": "OT26ZS1zlpKz",
        "outputId": "812cc286-f27b-45a2-811c-0d3388655282"
      },
      "source": [
        "import numpy as np\r\n",
        "\r\n",
        "arr = np.array([[[1, 2, 3], [4, 5, 6]], [[7, 8, 9], [10, 11, 12]]])\r\n",
        "\r\n",
        "print(arr[0, 1, 2])"
      ],
      "execution_count": null,
      "outputs": [
        {
          "output_type": "stream",
          "text": [
            "6\n"
          ],
          "name": "stdout"
        }
      ]
    },
    {
      "cell_type": "markdown",
      "metadata": {
        "id": "_UiqhbexCqdS"
      },
      "source": [
        "Example Explained\r\n",
        "arr[0, 1, 2] prints the value 6.\r\n",
        "\r\n",
        "And this is why:\r\n",
        "\r\n",
        "The first number represents the first dimension, which contains two arrays:\r\n",
        "[[1, 2, 3], [4, 5, 6]]\r\n",
        "and:\r\n",
        "[[7, 8, 9], [10, 11, 12]]\r\n",
        "Since we selected 0, we are left with the first array:\r\n",
        "[[1, 2, 3], [4, 5, 6]]\r\n",
        "\r\n",
        "The second number represents the second dimension, which also contains two arrays:\r\n",
        "[1, 2, 3]\r\n",
        "and:\r\n",
        "[4, 5, 6]\r\n",
        "Since we selected 1, we are left with the second array:\r\n",
        "[4, 5, 6]\r\n",
        "\r\n",
        "The third number represents the third dimension, which contains three values:\r\n",
        "4\r\n",
        "5\r\n",
        "6\r\n",
        "Since we selected 2, we end up with the third value:\r\n",
        "6"
      ]
    },
    {
      "cell_type": "markdown",
      "metadata": {
        "id": "EsE5X8BCCyUa"
      },
      "source": [
        "**Negative Indexing**\r\n",
        "\r\n",
        "**Use negative indexing to access an array from the end.**"
      ]
    },
    {
      "cell_type": "markdown",
      "metadata": {
        "id": "eNYrgoO0C3J4"
      },
      "source": [
        "**Example**\r\n",
        "\r\n",
        "**Print the last element from the 2nd dim:**"
      ]
    },
    {
      "cell_type": "code",
      "metadata": {
        "colab": {
          "base_uri": "https://localhost:8080/"
        },
        "id": "ANjlsVWDC-S-",
        "outputId": "9ebd9c04-5db6-4dfd-b0b0-e9774b711ec4"
      },
      "source": [
        "import numpy as np\r\n",
        "\r\n",
        "arr = np.array([[1,2,3,4,5], [6,7,8,9,10]])\r\n",
        "\r\n",
        "print('Last element from 2nd dim: ', arr[1, -1])"
      ],
      "execution_count": null,
      "outputs": [
        {
          "output_type": "stream",
          "text": [
            "Last element from 2nd dim:  10\n"
          ],
          "name": "stdout"
        }
      ]
    },
    {
      "cell_type": "markdown",
      "metadata": {
        "id": "h9iJa1mjDX1c"
      },
      "source": [
        "**NumPy Array Slicing**"
      ]
    },
    {
      "cell_type": "markdown",
      "metadata": {
        "id": "6ci39ljgDZkg"
      },
      "source": [
        "**Slicing arrays**\r\n",
        "\r\n",
        "Slicing in python means taking elements from one given index to another given index.\r\n",
        "\r\n",
        "We pass slice instead of index like this: [start:end].\r\n",
        "\r\n",
        "We can also define the step, like this: [start:end:step].\r\n",
        "\r\n",
        "If we don't pass start its considered 0\r\n",
        "\r\n",
        "If we don't pass end its considered length of array in that dimension\r\n",
        "\r\n",
        "If we don't pass step its considered 1"
      ]
    },
    {
      "cell_type": "markdown",
      "metadata": {
        "id": "Jl2F9DyNDhG1"
      },
      "source": [
        "**Example**\r\n",
        "\r\n",
        "Slice elements from index 1 to index 5 from the following array:"
      ]
    },
    {
      "cell_type": "code",
      "metadata": {
        "colab": {
          "base_uri": "https://localhost:8080/"
        },
        "id": "ir33JI1uDqoR",
        "outputId": "99eea078-3f77-45ab-9c63-63f866f7b9ea"
      },
      "source": [
        "import numpy as np\r\n",
        "\r\n",
        "arr = np.array([1, 2, 3, 4, 5, 6, 7])\r\n",
        "\r\n",
        "print(arr[1:5])\r\n",
        "#Note: The result includes the start index, but excludes the end index."
      ],
      "execution_count": null,
      "outputs": [
        {
          "output_type": "stream",
          "text": [
            "[2 3 4 5]\n"
          ],
          "name": "stdout"
        }
      ]
    },
    {
      "cell_type": "markdown",
      "metadata": {
        "id": "XWfVhLunD9TS"
      },
      "source": [
        "**Example**\r\n",
        "\r\n",
        "**Slice elements from index 4 to the end of the array:**\r\n",
        "\r\n"
      ]
    },
    {
      "cell_type": "code",
      "metadata": {
        "colab": {
          "base_uri": "https://localhost:8080/"
        },
        "id": "efin3J8zEBDL",
        "outputId": "0f954050-f857-47d9-f512-70f770457c6c"
      },
      "source": [
        "import numpy as np\r\n",
        "\r\n",
        "arr = np.array([1, 2, 3, 4, 5, 6, 7])\r\n",
        "\r\n",
        "print(arr[4:])"
      ],
      "execution_count": null,
      "outputs": [
        {
          "output_type": "stream",
          "text": [
            "[5 6 7]\n"
          ],
          "name": "stdout"
        }
      ]
    },
    {
      "cell_type": "markdown",
      "metadata": {
        "id": "dtrNw-B_EM7u"
      },
      "source": [
        ""
      ]
    },
    {
      "cell_type": "markdown",
      "metadata": {
        "id": "pBoia-auEMl4"
      },
      "source": [
        "Example\r\n",
        "Slice elements from the beginning to index 4 (not included):"
      ]
    },
    {
      "cell_type": "code",
      "metadata": {
        "colab": {
          "base_uri": "https://localhost:8080/"
        },
        "id": "nYlT3XxIEZAu",
        "outputId": "21aa45ad-0742-433f-c446-3a9cb327bd87"
      },
      "source": [
        "import numpy as np\r\n",
        "\r\n",
        "arr = np.array([1, 2, 3, 4, 5, 6, 7])\r\n",
        "\r\n",
        "print(arr[:4])"
      ],
      "execution_count": null,
      "outputs": [
        {
          "output_type": "stream",
          "text": [
            "[1 2 3 4]\n"
          ],
          "name": "stdout"
        }
      ]
    },
    {
      "cell_type": "markdown",
      "metadata": {
        "id": "TKGlX61gEblo"
      },
      "source": [
        "**Negative Slicing**\r\n",
        "\r\n",
        "**Use the minus operator to refer to an index from the end:**"
      ]
    },
    {
      "cell_type": "markdown",
      "metadata": {
        "id": "0Sl-AXD2Epvz"
      },
      "source": [
        "**Example**\r\n",
        "\r\n",
        "**Slice from the index 3 from the end to index 1 from the end:**"
      ]
    },
    {
      "cell_type": "code",
      "metadata": {
        "colab": {
          "base_uri": "https://localhost:8080/"
        },
        "id": "MGC9VZz9Etci",
        "outputId": "08123f2f-515b-4bb5-c1c4-7740dda48e0e"
      },
      "source": [
        "import numpy as np\r\n",
        "\r\n",
        "arr = np.array([1, 2, 3, 4, 5, 6, 7])\r\n",
        "\r\n",
        "print(arr[-3:-1])"
      ],
      "execution_count": null,
      "outputs": [
        {
          "output_type": "stream",
          "text": [
            "[5 6]\n"
          ],
          "name": "stdout"
        }
      ]
    },
    {
      "cell_type": "markdown",
      "metadata": {
        "id": "uudRd0p2FBI-"
      },
      "source": [
        "**STEP**\r\n",
        "\r\n",
        "**Use the step value to determine the step of the slicing:**"
      ]
    },
    {
      "cell_type": "code",
      "metadata": {
        "colab": {
          "base_uri": "https://localhost:8080/"
        },
        "id": "HIYEEMEIFEPV",
        "outputId": "4f213ad0-4e8a-4c9f-d26a-5854a946e480"
      },
      "source": [
        "import numpy as np\r\n",
        "\r\n",
        "arr = np.array([1, 2, 3, 4, 5, 6, 7])\r\n",
        "\r\n",
        "print(arr[1:5:2])"
      ],
      "execution_count": null,
      "outputs": [
        {
          "output_type": "stream",
          "text": [
            "[2 4]\n"
          ],
          "name": "stdout"
        }
      ]
    },
    {
      "cell_type": "markdown",
      "metadata": {
        "id": "jBQsJO1NFRFn"
      },
      "source": [
        "**Example**\r\n",
        "\r\n",
        "**Return every other element from the entire array:**"
      ]
    },
    {
      "cell_type": "code",
      "metadata": {
        "colab": {
          "base_uri": "https://localhost:8080/"
        },
        "id": "BdW7XIqOFVmQ",
        "outputId": "71041d9b-b6aa-4e47-c060-3c9662efca58"
      },
      "source": [
        "import numpy as np\r\n",
        "\r\n",
        "arr = np.array([1, 2, 3, 4, 5, 6, 7])\r\n",
        "\r\n",
        "print(arr[::2])"
      ],
      "execution_count": null,
      "outputs": [
        {
          "output_type": "stream",
          "text": [
            "[1 3 5 7]\n"
          ],
          "name": "stdout"
        }
      ]
    },
    {
      "cell_type": "markdown",
      "metadata": {
        "id": "eqvupQIzFgLo"
      },
      "source": [
        "**Slicing 2-D Arrays**"
      ]
    },
    {
      "cell_type": "markdown",
      "metadata": {
        "id": "ULPNV1rTFkby"
      },
      "source": [
        "**Example**\r\n",
        "\r\n",
        "**From the second element, slice elements from index 1 to index 4 (not included):**"
      ]
    },
    {
      "cell_type": "code",
      "metadata": {
        "colab": {
          "base_uri": "https://localhost:8080/"
        },
        "id": "8u_WU4ErFpgz",
        "outputId": "9719e859-1b50-42f5-f52d-c39a3aecc84b"
      },
      "source": [
        "import numpy as np\r\n",
        "\r\n",
        "arr = np.array([[1, 2, 3, 4, 5], [6, 7, 8, 9, 10]])\r\n",
        "\r\n",
        "print(arr[1, 1:4])\r\n",
        "#Note: Remember that second element has index 1."
      ],
      "execution_count": null,
      "outputs": [
        {
          "output_type": "stream",
          "text": [
            "[7 8 9]\n"
          ],
          "name": "stdout"
        }
      ]
    },
    {
      "cell_type": "markdown",
      "metadata": {
        "id": "ngMSTfblGAtF"
      },
      "source": [
        "**Example**\r\n",
        "\r\n",
        "**From both elements, return index 2:**"
      ]
    },
    {
      "cell_type": "code",
      "metadata": {
        "colab": {
          "base_uri": "https://localhost:8080/"
        },
        "id": "ikga7w7MGDoR",
        "outputId": "b92180db-f3ed-44f3-b0d1-3f354217b9cd"
      },
      "source": [
        "import numpy as np\r\n",
        "\r\n",
        "arr = np.array([[1, 2, 3, 4, 5], [6, 7, 8, 9, 10]])\r\n",
        "\r\n",
        "print(arr[0:2, 2])"
      ],
      "execution_count": null,
      "outputs": [
        {
          "output_type": "stream",
          "text": [
            "[3 8]\n"
          ],
          "name": "stdout"
        }
      ]
    },
    {
      "cell_type": "markdown",
      "metadata": {
        "id": "H1HW7NnxGKWq"
      },
      "source": [
        "**Example**\r\n",
        "\r\n",
        "**From both elements, slice index 1 to index 4 (not included), this will return a 2-D array:**"
      ]
    },
    {
      "cell_type": "code",
      "metadata": {
        "colab": {
          "base_uri": "https://localhost:8080/"
        },
        "id": "yV4fa07HGNht",
        "outputId": "6d8963b9-52e4-471b-d850-39b3d1c89304"
      },
      "source": [
        "import numpy as np\r\n",
        "\r\n",
        "arr = np.array([[1, 2, 3, 4, 5], [6, 7, 8, 9, 10]])\r\n",
        "\r\n",
        "print(arr[0:2, 1:4])"
      ],
      "execution_count": null,
      "outputs": [
        {
          "output_type": "stream",
          "text": [
            "[[2 3 4]\n",
            " [7 8 9]]\n"
          ],
          "name": "stdout"
        }
      ]
    },
    {
      "cell_type": "markdown",
      "metadata": {
        "id": "QwQdQbZ2GUDa"
      },
      "source": [
        "**NumPy Data Types**"
      ]
    },
    {
      "cell_type": "markdown",
      "metadata": {
        "id": "cfnvJgexGaLw"
      },
      "source": [
        "**Data Types in Python**\r\n",
        "By default Python have these data types:\r\n",
        "\r\n",
        "strings - used to represent text data, the text is given under quote marks. e.g. \"ABCD\"\r\n",
        "integer - used to represent integer numbers. e.g. -1, -2, -3\r\n",
        "float - used to represent real numbers. e.g. 1.2, 42.42\r\n",
        "boolean - used to represent True or False.\r\n",
        "complex - used to represent complex numbers. e.g. 1.0 + 2.0j, 1.5 + 2.5j\r\n"
      ]
    },
    {
      "cell_type": "markdown",
      "metadata": {
        "id": "2U3q51EhGktF"
      },
      "source": [
        "**Data Types in NumPy**\r\n",
        "\r\n",
        "NumPy has some extra data types, and refer to data types with one character, like i for integers, u for unsigned integers etc.\r\n",
        "\r\n",
        "Below is a list of all data types in NumPy and the characters used to represent them.\r\n",
        "\r\n",
        "i - integer\r\n",
        "b - boolean\r\n",
        "u - unsigned integer\r\n",
        "f - float\r\n",
        "c - complex float\r\n",
        "m - timedelta\r\n",
        "M - datetime\r\n",
        "O - object\r\n",
        "S - string\r\n",
        "U - unicode string\r\n",
        "V - fixed chunk of memory for other type ( void )"
      ]
    },
    {
      "cell_type": "markdown",
      "metadata": {
        "id": "TDLfkme7GrYw"
      },
      "source": [
        "**Checking the Data Type of an Array**\r\n",
        "\r\n",
        "The NumPy array object has a property called dtype that returns the data type of the array:"
      ]
    },
    {
      "cell_type": "markdown",
      "metadata": {
        "id": "lzAPH6ZIGyfV"
      },
      "source": [
        "**Example**\r\n",
        "\r\n",
        "Get the data type of an array object:"
      ]
    },
    {
      "cell_type": "code",
      "metadata": {
        "colab": {
          "base_uri": "https://localhost:8080/"
        },
        "id": "zscCyDjsG1PK",
        "outputId": "e26ea4e8-77cb-4050-d3a0-b688f99a90b0"
      },
      "source": [
        "import numpy as np\r\n",
        "\r\n",
        "arr = np.array([1, 2, 3, 4])\r\n",
        "\r\n",
        "print(arr.dtype)"
      ],
      "execution_count": null,
      "outputs": [
        {
          "output_type": "stream",
          "text": [
            "int64\n"
          ],
          "name": "stdout"
        }
      ]
    },
    {
      "cell_type": "markdown",
      "metadata": {
        "id": "u-pIoZ1LG7NT"
      },
      "source": [
        "**Example**\r\n",
        "\r\n",
        "**Get the data type of an array containing strings:**"
      ]
    },
    {
      "cell_type": "code",
      "metadata": {
        "colab": {
          "base_uri": "https://localhost:8080/"
        },
        "id": "O0oi5fl8HFW7",
        "outputId": "b481cbcf-58c4-4c5e-937f-e95459d6f829"
      },
      "source": [
        "import numpy as np\r\n",
        "\r\n",
        "arr = np.array(['apple', 'banana', 'cherry'])\r\n",
        "\r\n",
        "print(arr.dtype)"
      ],
      "execution_count": null,
      "outputs": [
        {
          "output_type": "stream",
          "text": [
            "<U6\n"
          ],
          "name": "stdout"
        }
      ]
    },
    {
      "cell_type": "markdown",
      "metadata": {
        "id": "RE4WOLIFHkE_"
      },
      "source": [
        "**Creating Arrays With a Defined Data Type**\r\n",
        "\r\n",
        "**We use the array() function to create arrays, this function can take an optional argument: dtype that allows us to define the expected data type of the array elements:**"
      ]
    },
    {
      "cell_type": "markdown",
      "metadata": {
        "id": "DrXcnqeUHpj1"
      },
      "source": [
        "**Example**\r\n",
        "\r\n",
        "**Create an array with data type string:**"
      ]
    },
    {
      "cell_type": "code",
      "metadata": {
        "colab": {
          "base_uri": "https://localhost:8080/"
        },
        "id": "focA27mSH1Yo",
        "outputId": "049575ae-a67e-48be-c7c1-5c7760e5a610"
      },
      "source": [
        "import numpy as np\r\n",
        "\r\n",
        "arr = np.array([1, 2, 3, 4], dtype='S')\r\n",
        "\r\n",
        "print(arr)\r\n",
        "print(arr.dtype)"
      ],
      "execution_count": null,
      "outputs": [
        {
          "output_type": "stream",
          "text": [
            "[b'1' b'2' b'3' b'4']\n",
            "|S1\n"
          ],
          "name": "stdout"
        }
      ]
    },
    {
      "cell_type": "markdown",
      "metadata": {
        "id": "6NcTpqNyH7VE"
      },
      "source": [
        "**For i, u, f, S and U we can define size as well.**"
      ]
    },
    {
      "cell_type": "markdown",
      "metadata": {
        "id": "hfJOdBfOIBgj"
      },
      "source": [
        "**Example**\r\n",
        "\r\n",
        "**Create an array with data type 4 bytes integer:**"
      ]
    },
    {
      "cell_type": "code",
      "metadata": {
        "colab": {
          "base_uri": "https://localhost:8080/"
        },
        "id": "j9fJM4WvIFM8",
        "outputId": "8e51d8f7-cf53-44ad-e86b-cdcf5e612f9a"
      },
      "source": [
        "import numpy as np\r\n",
        "\r\n",
        "arr = np.array([1, 2, 3, 4], dtype='i4')\r\n",
        "\r\n",
        "print(arr)\r\n",
        "print(arr.dtype)"
      ],
      "execution_count": null,
      "outputs": [
        {
          "output_type": "stream",
          "text": [
            "[1 2 3 4]\n",
            "int32\n"
          ],
          "name": "stdout"
        }
      ]
    },
    {
      "cell_type": "markdown",
      "metadata": {
        "id": "VMpULyyrIUeb"
      },
      "source": [
        "**What if a Value Can Not Be Converted?**\r\n",
        "\r\n",
        "**If a type is given in which elements can't be casted then NumPy will raise a ValueError.**\r\n",
        "\r\n",
        "ValueError: In Python ValueError is raised when the type of passed argument to a function is unexpected/incorrect. "
      ]
    },
    {
      "cell_type": "markdown",
      "metadata": {
        "id": "5xbH9YG5Imbv"
      },
      "source": [
        "**Example**\r\n",
        "\r\n",
        "A non integer string like 'a' can not be converted to integer (will raise an error):"
      ]
    },
    {
      "cell_type": "code",
      "metadata": {
        "colab": {
          "base_uri": "https://localhost:8080/",
          "height": 201
        },
        "id": "Nkk0nfofIska",
        "outputId": "036d02c1-9b5e-4f8a-9511-32dc12e1889f"
      },
      "source": [
        "import numpy as np\r\n",
        "\r\n",
        "arr = np.array(['a', '2', '3'], dtype='i')"
      ],
      "execution_count": null,
      "outputs": [
        {
          "output_type": "error",
          "ename": "ValueError",
          "evalue": "ignored",
          "traceback": [
            "\u001b[0;31m---------------------------------------------------------------------------\u001b[0m",
            "\u001b[0;31mValueError\u001b[0m                                Traceback (most recent call last)",
            "\u001b[0;32m<ipython-input-17-3d3a7c165e54>\u001b[0m in \u001b[0;36m<module>\u001b[0;34m()\u001b[0m\n\u001b[1;32m      1\u001b[0m \u001b[0;32mimport\u001b[0m \u001b[0mnumpy\u001b[0m \u001b[0;32mas\u001b[0m \u001b[0mnp\u001b[0m\u001b[0;34m\u001b[0m\u001b[0;34m\u001b[0m\u001b[0m\n\u001b[1;32m      2\u001b[0m \u001b[0;34m\u001b[0m\u001b[0m\n\u001b[0;32m----> 3\u001b[0;31m \u001b[0marr\u001b[0m \u001b[0;34m=\u001b[0m \u001b[0mnp\u001b[0m\u001b[0;34m.\u001b[0m\u001b[0marray\u001b[0m\u001b[0;34m(\u001b[0m\u001b[0;34m[\u001b[0m\u001b[0;34m'a'\u001b[0m\u001b[0;34m,\u001b[0m \u001b[0;34m'2'\u001b[0m\u001b[0;34m,\u001b[0m \u001b[0;34m'3'\u001b[0m\u001b[0;34m]\u001b[0m\u001b[0;34m,\u001b[0m \u001b[0mdtype\u001b[0m\u001b[0;34m=\u001b[0m\u001b[0;34m'i'\u001b[0m\u001b[0;34m)\u001b[0m\u001b[0;34m\u001b[0m\u001b[0;34m\u001b[0m\u001b[0m\n\u001b[0m",
            "\u001b[0;31mValueError\u001b[0m: invalid literal for int() with base 10: 'a'"
          ]
        }
      ]
    },
    {
      "cell_type": "markdown",
      "metadata": {
        "id": "l9_fz6XfI17Z"
      },
      "source": [
        "**Converting Data Type on Existing Arrays**\r\n",
        "\r\n",
        "The best way to change the data type of an existing array, is to make a copy of the array with the astype() method.\r\n",
        "\r\n",
        "The astype() function creates a copy of the array, and allows you to specify the data type as a parameter.\r\n",
        "\r\n",
        "The data type can be specified using a string, like 'f' for float, 'i' for integer etc. or you can use the data type directly like float for float and int for integer."
      ]
    },
    {
      "cell_type": "markdown",
      "metadata": {
        "id": "PQ0iKbKRI-dI"
      },
      "source": [
        "**Example**\r\n",
        "\r\n",
        "**Change data type from float to integer by using 'i' as parameter value:**"
      ]
    },
    {
      "cell_type": "code",
      "metadata": {
        "colab": {
          "base_uri": "https://localhost:8080/"
        },
        "id": "KUkRBWY4JK68",
        "outputId": "161496fb-4faf-45b7-866d-f9a557b9c6d9"
      },
      "source": [
        "import numpy as np\r\n",
        "\r\n",
        "arr = np.array([1.1, 2.1, 3.1])\r\n",
        "\r\n",
        "newarr = arr.astype('i')\r\n",
        "\r\n",
        "print(newarr)\r\n",
        "print(newarr.dtype)"
      ],
      "execution_count": null,
      "outputs": [
        {
          "output_type": "stream",
          "text": [
            "[1 2 3]\n",
            "int32\n"
          ],
          "name": "stdout"
        }
      ]
    },
    {
      "cell_type": "markdown",
      "metadata": {
        "id": "Oc9JLnM7JVDe"
      },
      "source": [
        "**Example**\r\n",
        "\r\n",
        "**Change data type from float to integer by using int as parameter value:**"
      ]
    },
    {
      "cell_type": "code",
      "metadata": {
        "colab": {
          "base_uri": "https://localhost:8080/"
        },
        "id": "W6AaBtxFJYQq",
        "outputId": "6ab22860-d45d-47a3-9bd0-edf4537431c7"
      },
      "source": [
        "import numpy as np\r\n",
        "\r\n",
        "arr = np.array([1.1, 2.1, 3.1])\r\n",
        "\r\n",
        "newarr = arr.astype(int)\r\n",
        "\r\n",
        "print(newarr)\r\n",
        "print(newarr.dtype)"
      ],
      "execution_count": null,
      "outputs": [
        {
          "output_type": "stream",
          "text": [
            "[1 2 3]\n",
            "int64\n"
          ],
          "name": "stdout"
        }
      ]
    },
    {
      "cell_type": "markdown",
      "metadata": {
        "id": "9oxgByvJJbdk"
      },
      "source": [
        "**Example**\r\n",
        "\r\n",
        "**Change data type from integer to boolean:**"
      ]
    },
    {
      "cell_type": "code",
      "metadata": {
        "colab": {
          "base_uri": "https://localhost:8080/"
        },
        "id": "diL580oAJijO",
        "outputId": "4f59bb01-b31d-4452-9cec-8f9df298ec24"
      },
      "source": [
        "import numpy as np\r\n",
        "\r\n",
        "arr = np.array([1, 0, 3])\r\n",
        "\r\n",
        "newarr = arr.astype(bool)\r\n",
        "\r\n",
        "print(newarr)\r\n",
        "print(newarr.dtype)"
      ],
      "execution_count": null,
      "outputs": [
        {
          "output_type": "stream",
          "text": [
            "[ True False  True]\n",
            "bool\n"
          ],
          "name": "stdout"
        }
      ]
    },
    {
      "cell_type": "markdown",
      "metadata": {
        "id": "Epp0TqACeGsH"
      },
      "source": [
        "**NumPy Array Copy vs View**"
      ]
    },
    {
      "cell_type": "markdown",
      "metadata": {
        "id": "cHUqNJKgeOd3"
      },
      "source": [
        "**The Difference Between Copy and View**\r\n",
        "\r\n",
        "The main difference between a copy and a view of an array is that the copy is a new array, and the view is just a view of the original array.\r\n",
        "\r\n",
        "The copy owns the data and any changes made to the copy will not affect original array, and any changes made to the original array will not affect the copy.\r\n",
        "\r\n",
        "The view does not own the data and any changes made to the view will affect the original array, and any changes made to the original array will affect the view.\r\n",
        "\r\n"
      ]
    },
    {
      "cell_type": "markdown",
      "metadata": {
        "id": "p5VrsfKfeSqI"
      },
      "source": [
        "**COPY:**\r\n",
        "\r\n",
        "**Example**\r\n",
        "\r\n",
        "**Make a copy, change the original array, and display both arrays:**"
      ]
    },
    {
      "cell_type": "code",
      "metadata": {
        "colab": {
          "base_uri": "https://localhost:8080/"
        },
        "id": "pU6goNhsehOI",
        "outputId": "0db22e28-8426-4687-9861-74ece915ddca"
      },
      "source": [
        "import numpy as np\r\n",
        "\r\n",
        "arr = np.array([1, 2, 3, 4, 5])\r\n",
        "x = arr.copy()\r\n",
        "arr[0] = 42\r\n",
        "\r\n",
        "print(arr)\r\n",
        "print(x)"
      ],
      "execution_count": null,
      "outputs": [
        {
          "output_type": "stream",
          "text": [
            "[42  2  3  4  5]\n",
            "[1 2 3 4 5]\n"
          ],
          "name": "stdout"
        }
      ]
    },
    {
      "cell_type": "markdown",
      "metadata": {
        "id": "muRFYhBQejAJ"
      },
      "source": [
        "**The copy SHOULD NOT be affected by the changes made to the original array.**"
      ]
    },
    {
      "cell_type": "markdown",
      "metadata": {
        "id": "QOX3bhn0ewFh"
      },
      "source": [
        "**VIEW:**\r\n",
        "\r\n",
        "**Example**\r\n",
        "\r\n",
        "**Make a view, change the original array, and display both arrays:**"
      ]
    },
    {
      "cell_type": "code",
      "metadata": {
        "colab": {
          "base_uri": "https://localhost:8080/"
        },
        "id": "roUuEGqse8-X",
        "outputId": "d5e6f1d4-98c6-46a9-fa8e-8425047db061"
      },
      "source": [
        "import numpy as np\r\n",
        "\r\n",
        "arr = np.array([1, 2, 3, 4, 5])\r\n",
        "x = arr.view()\r\n",
        "arr[0] = 42\r\n",
        "\r\n",
        "print(arr)\r\n",
        "print(x)"
      ],
      "execution_count": null,
      "outputs": [
        {
          "output_type": "stream",
          "text": [
            "[42  2  3  4  5]\n",
            "[42  2  3  4  5]\n"
          ],
          "name": "stdout"
        }
      ]
    },
    {
      "cell_type": "markdown",
      "metadata": {
        "id": "xTUCc0AnfAys"
      },
      "source": [
        "**The view SHOULD be affected by the changes made to the original array.**"
      ]
    },
    {
      "cell_type": "markdown",
      "metadata": {
        "id": "3XU4EaZRfGkx"
      },
      "source": [
        "**Make Changes in the VIEW:**\r\n",
        "\r\n",
        "**Example**\r\n",
        "\r\n",
        "**Make a view, change the view, and display both arrays:**"
      ]
    },
    {
      "cell_type": "code",
      "metadata": {
        "colab": {
          "base_uri": "https://localhost:8080/"
        },
        "id": "mW1y9_rOfRea",
        "outputId": "c682383e-ed4c-4bf9-f522-1c87ecae1b2a"
      },
      "source": [
        "import numpy as np\r\n",
        "\r\n",
        "arr = np.array([1, 2, 3, 4, 5])\r\n",
        "x = arr.view()\r\n",
        "x[0] = 31\r\n",
        "\r\n",
        "print(arr)\r\n",
        "print(x)"
      ],
      "execution_count": null,
      "outputs": [
        {
          "output_type": "stream",
          "text": [
            "[31  2  3  4  5]\n",
            "[31  2  3  4  5]\n"
          ],
          "name": "stdout"
        }
      ]
    },
    {
      "cell_type": "markdown",
      "metadata": {
        "id": "Dz29jLOCfijO"
      },
      "source": [
        "**The original array SHOULD be affected by the changes made to the view.**"
      ]
    },
    {
      "cell_type": "markdown",
      "metadata": {
        "id": "6wAKUlKBfo-N"
      },
      "source": [
        "**Check if Array Owns it's Data**\r\n",
        "\r\n",
        "As mentioned above, copies owns the data, and views does not own the data, but how can we check this?\r\n",
        "\r\n",
        "Every NumPy array has the attribute base that returns None if the array owns the data.\r\n",
        "\r\n",
        "Otherwise, the base  attribute refers to the original object."
      ]
    },
    {
      "cell_type": "markdown",
      "metadata": {
        "id": "4RND-vwXfv7c"
      },
      "source": [
        "**Example**\r\n",
        "\r\n",
        "Print the value of the base attribute to check if an array owns it's data or not:"
      ]
    },
    {
      "cell_type": "code",
      "metadata": {
        "colab": {
          "base_uri": "https://localhost:8080/"
        },
        "id": "ymP4-gg6f2cj",
        "outputId": "e0dca3d3-217c-4844-e0dd-bb4538cd0ec9"
      },
      "source": [
        "import numpy as np\r\n",
        "\r\n",
        "arr = np.array([1, 2, 3, 4, 5])\r\n",
        "\r\n",
        "x = arr.copy()\r\n",
        "y = arr.view()\r\n",
        "\r\n",
        "print('X',x.base)\r\n",
        "print('Y',y.base)"
      ],
      "execution_count": null,
      "outputs": [
        {
          "output_type": "stream",
          "text": [
            "X None\n",
            "Y [1 2 3 4 5]\n"
          ],
          "name": "stdout"
        }
      ]
    },
    {
      "cell_type": "markdown",
      "metadata": {
        "id": "jJoZdi5ihH_M"
      },
      "source": [
        "The copy returns None.\r\n",
        "The view returns the original array."
      ]
    },
    {
      "cell_type": "markdown",
      "metadata": {
        "id": "w4K3MmylhQIc"
      },
      "source": [
        "**NumPy Array Shape**"
      ]
    },
    {
      "cell_type": "markdown",
      "metadata": {
        "id": "QZW-9QQkhR7r"
      },
      "source": [
        "**Shape of an Array**\r\n",
        "\r\n",
        "**The shape of an array is the number of elements in each dimension.**\r\n",
        "\r\n"
      ]
    },
    {
      "cell_type": "markdown",
      "metadata": {
        "id": "K74lrDGYhaji"
      },
      "source": [
        "**Get the Shape of an Array**\r\n",
        "\r\n",
        "NumPy arrays have an attribute called shape that returns a tuple with each index having the number of corresponding elements."
      ]
    },
    {
      "cell_type": "markdown",
      "metadata": {
        "id": "ia7s6_FnhgZn"
      },
      "source": [
        "**Example**\r\n",
        "\r\n",
        "**Print the shape of a 2-D array:**"
      ]
    },
    {
      "cell_type": "code",
      "metadata": {
        "colab": {
          "base_uri": "https://localhost:8080/"
        },
        "id": "2rxrIA9ahmiP",
        "outputId": "1badc0bf-1b7f-4258-d20f-3a0c11258498"
      },
      "source": [
        "import numpy as np\r\n",
        "\r\n",
        "arr = np.array([[1, 2, 3, 4], [5, 6, 7, 8]])\r\n",
        "\r\n",
        "print(arr.shape)"
      ],
      "execution_count": null,
      "outputs": [
        {
          "output_type": "stream",
          "text": [
            "(2, 4)\n"
          ],
          "name": "stdout"
        }
      ]
    },
    {
      "cell_type": "markdown",
      "metadata": {
        "id": "MO9tyzrdhrRJ"
      },
      "source": [
        "The example above returns (2, 4), which means that the array has 2 dimensions, and each dimension has 4 elements."
      ]
    },
    {
      "cell_type": "markdown",
      "metadata": {
        "id": "DiyFbkzBhsjP"
      },
      "source": [
        "**Example**\r\n",
        "\r\n",
        "Create an array with 5 dimensions using ndmin using a vector with values 1,2,3,4 and verify that last dimension has value 4:\r\n",
        "\r\n",
        "---\r\n",
        "\r\n"
      ]
    },
    {
      "cell_type": "code",
      "metadata": {
        "colab": {
          "base_uri": "https://localhost:8080/"
        },
        "id": "kmZNWl2uh01Q",
        "outputId": "62d574d7-5089-4fab-be1a-c47e2522253e"
      },
      "source": [
        "import numpy as np\r\n",
        "\r\n",
        "arr = np.array([1, 2, 3, 4], ndmin=5)\r\n",
        "\r\n",
        "print(arr)\r\n",
        "print('shape of array :', arr.shape)"
      ],
      "execution_count": null,
      "outputs": [
        {
          "output_type": "stream",
          "text": [
            "[[[[[1 2 3 4]]]]]\n",
            "shape of array : (1, 1, 1, 1, 4)\n"
          ],
          "name": "stdout"
        }
      ]
    },
    {
      "cell_type": "markdown",
      "metadata": {
        "id": "KRGv4hEEh415"
      },
      "source": [
        "**What does the shape tuple represent?**\r\n",
        "\r\n",
        "Integers at every index tells about the number of elements the corresponding dimension has.\r\n",
        "\r\n",
        "In the example above at index-4 we have value 4, so we can say that 5th ( 4 + 1 th) dimension has 4 elements."
      ]
    },
    {
      "cell_type": "markdown",
      "metadata": {
        "id": "VQFufl9TiEvB"
      },
      "source": [
        "**NumPy Array Reshaping**"
      ]
    },
    {
      "cell_type": "markdown",
      "metadata": {
        "id": "cJmA1W-wiMCM"
      },
      "source": [
        "**Reshaping arrays**\r\n",
        "\r\n",
        "Reshaping means changing the shape of an array.\r\n",
        "\r\n",
        "The shape of an array is the number of elements in each dimension.\r\n",
        "\r\n",
        "By reshaping we can add or remove dimensions or change number of elements in each dimension.\r\n",
        "\r\n"
      ]
    },
    {
      "cell_type": "markdown",
      "metadata": {
        "id": "59sssxW0iRDT"
      },
      "source": [
        "**Reshape From 1-D to 2-D**"
      ]
    },
    {
      "cell_type": "markdown",
      "metadata": {
        "id": "XCgs_WzliUNK"
      },
      "source": [
        "**Example**\r\n",
        "\r\n",
        "Convert the following 1-D array with 12 elements into a 2-D array.\r\n",
        "\r\n",
        "The outermost dimension will have 4 arrays, each with 3 elements:"
      ]
    },
    {
      "cell_type": "code",
      "metadata": {
        "colab": {
          "base_uri": "https://localhost:8080/"
        },
        "id": "edlnrib9ibgP",
        "outputId": "5f823ec8-b523-425c-c966-57fdffb3813c"
      },
      "source": [
        "import numpy as np\r\n",
        "\r\n",
        "arr = np.array([1, 2, 3, 4, 5, 6, 7, 8, 9, 10, 11, 12])\r\n",
        "\r\n",
        "newarr = arr.reshape(4, 3)\r\n",
        "\r\n",
        "print(newarr)"
      ],
      "execution_count": null,
      "outputs": [
        {
          "output_type": "stream",
          "text": [
            "[[ 1  2  3]\n",
            " [ 4  5  6]\n",
            " [ 7  8  9]\n",
            " [10 11 12]]\n"
          ],
          "name": "stdout"
        }
      ]
    },
    {
      "cell_type": "markdown",
      "metadata": {
        "id": "1eyU5QHIifrF"
      },
      "source": [
        "**Reshape From 1-D to 3-D**"
      ]
    },
    {
      "cell_type": "markdown",
      "metadata": {
        "id": "ZyuDuFOxikWv"
      },
      "source": [
        "**Example**\r\n",
        "\r\n",
        "**Convert the following 1-D array with 12 elements into a 3-D array.**\r\n",
        "\r\n",
        "**The outermost dimension will have 2 arrays that contains 3 arrays, each with 2 elements:**"
      ]
    },
    {
      "cell_type": "code",
      "metadata": {
        "colab": {
          "base_uri": "https://localhost:8080/"
        },
        "id": "472FZpMEiGcK",
        "outputId": "31011ae3-d61e-4f91-d767-49f23cb56750"
      },
      "source": [
        "import numpy as np\r\n",
        "\r\n",
        "arr = np.array([1, 2, 3, 4, 5, 6, 7, 8, 9, 10, 11, 12])\r\n",
        "\r\n",
        "newarr = arr.reshape(2, 3, 2)\r\n",
        "\r\n",
        "print(newarr)"
      ],
      "execution_count": null,
      "outputs": [
        {
          "output_type": "stream",
          "text": [
            "[[[ 1  2]\n",
            "  [ 3  4]\n",
            "  [ 5  6]]\n",
            "\n",
            " [[ 7  8]\n",
            "  [ 9 10]\n",
            "  [11 12]]]\n"
          ],
          "name": "stdout"
        }
      ]
    },
    {
      "cell_type": "markdown",
      "metadata": {
        "id": "-ZjSQSFtizgb"
      },
      "source": [
        "**Can We Reshape Into any Shape?**\r\n",
        "\r\n",
        "Yes, as long as the elements required for reshaping are equal in both shapes.\r\n",
        "\r\n",
        "We can reshape an 8 elements 1D array into 4 elements in 2 rows 2D array but we cannot reshape it into a 3 elements 3 rows 2D array as that would require 3x3 = 9 elements."
      ]
    },
    {
      "cell_type": "markdown",
      "metadata": {
        "id": "qIbTLvFDjEZZ"
      },
      "source": [
        "**Example**\r\n",
        "\r\n",
        "Try converting 1D array with 8 elements to a 2D array with 3 elements in each dimension (will raise an error):"
      ]
    },
    {
      "cell_type": "code",
      "metadata": {
        "colab": {
          "base_uri": "https://localhost:8080/",
          "height": 235
        },
        "id": "7TXDBnFejHgq",
        "outputId": "7c415e8c-962f-47f4-d298-bd2d8861269c"
      },
      "source": [
        "import numpy as np\r\n",
        "\r\n",
        "arr = np.array([1, 2, 3, 4, 5, 6, 7, 8])\r\n",
        "\r\n",
        "newarr = arr.reshape(3, 3)\r\n",
        "\r\n",
        "print(newarr)"
      ],
      "execution_count": null,
      "outputs": [
        {
          "output_type": "error",
          "ename": "ValueError",
          "evalue": "ignored",
          "traceback": [
            "\u001b[0;31m---------------------------------------------------------------------------\u001b[0m",
            "\u001b[0;31mValueError\u001b[0m                                Traceback (most recent call last)",
            "\u001b[0;32m<ipython-input-32-79494d80387a>\u001b[0m in \u001b[0;36m<module>\u001b[0;34m()\u001b[0m\n\u001b[1;32m      3\u001b[0m \u001b[0marr\u001b[0m \u001b[0;34m=\u001b[0m \u001b[0mnp\u001b[0m\u001b[0;34m.\u001b[0m\u001b[0marray\u001b[0m\u001b[0;34m(\u001b[0m\u001b[0;34m[\u001b[0m\u001b[0;36m1\u001b[0m\u001b[0;34m,\u001b[0m \u001b[0;36m2\u001b[0m\u001b[0;34m,\u001b[0m \u001b[0;36m3\u001b[0m\u001b[0;34m,\u001b[0m \u001b[0;36m4\u001b[0m\u001b[0;34m,\u001b[0m \u001b[0;36m5\u001b[0m\u001b[0;34m,\u001b[0m \u001b[0;36m6\u001b[0m\u001b[0;34m,\u001b[0m \u001b[0;36m7\u001b[0m\u001b[0;34m,\u001b[0m \u001b[0;36m8\u001b[0m\u001b[0;34m]\u001b[0m\u001b[0;34m)\u001b[0m\u001b[0;34m\u001b[0m\u001b[0;34m\u001b[0m\u001b[0m\n\u001b[1;32m      4\u001b[0m \u001b[0;34m\u001b[0m\u001b[0m\n\u001b[0;32m----> 5\u001b[0;31m \u001b[0mnewarr\u001b[0m \u001b[0;34m=\u001b[0m \u001b[0marr\u001b[0m\u001b[0;34m.\u001b[0m\u001b[0mreshape\u001b[0m\u001b[0;34m(\u001b[0m\u001b[0;36m3\u001b[0m\u001b[0;34m,\u001b[0m \u001b[0;36m3\u001b[0m\u001b[0;34m)\u001b[0m\u001b[0;34m\u001b[0m\u001b[0;34m\u001b[0m\u001b[0m\n\u001b[0m\u001b[1;32m      6\u001b[0m \u001b[0;34m\u001b[0m\u001b[0m\n\u001b[1;32m      7\u001b[0m \u001b[0mprint\u001b[0m\u001b[0;34m(\u001b[0m\u001b[0mnewarr\u001b[0m\u001b[0;34m)\u001b[0m\u001b[0;34m\u001b[0m\u001b[0;34m\u001b[0m\u001b[0m\n",
            "\u001b[0;31mValueError\u001b[0m: cannot reshape array of size 8 into shape (3,3)"
          ]
        }
      ]
    },
    {
      "cell_type": "markdown",
      "metadata": {
        "id": "tflv3SVfjPWP"
      },
      "source": [
        "**Returns Copy or View?**"
      ]
    },
    {
      "cell_type": "markdown",
      "metadata": {
        "id": "GxhutyozjTVI"
      },
      "source": [
        "**Example**\r\n",
        "\r\n",
        "Check if the returned array is a copy or a view:"
      ]
    },
    {
      "cell_type": "code",
      "metadata": {
        "colab": {
          "base_uri": "https://localhost:8080/"
        },
        "id": "o_MTL0sZjYUr",
        "outputId": "dbc6b776-498b-48a7-9cad-0b0791c7a7fa"
      },
      "source": [
        "import numpy as np\r\n",
        "\r\n",
        "arr = np.array([1, 2, 3, 4, 5, 6, 7, 8])\r\n",
        "\r\n",
        "print(arr.reshape(2, 4).base)\r\n"
      ],
      "execution_count": null,
      "outputs": [
        {
          "output_type": "stream",
          "text": [
            "[1 2 3 4 5 6 7 8]\n"
          ],
          "name": "stdout"
        }
      ]
    },
    {
      "cell_type": "markdown",
      "metadata": {
        "id": "_vR0wP67jdb6"
      },
      "source": [
        "The example above returns the original array, so it is a view."
      ]
    },
    {
      "cell_type": "markdown",
      "metadata": {
        "id": "qQ3ukio2jeN7"
      },
      "source": [
        "**Unknown Dimension**\r\n",
        "\r\n",
        "You are allowed to have one \"unknown\" dimension.\r\n",
        "\r\n",
        "Meaning that you do not have to specify an exact number for one of the dimensions in the reshape method.\r\n",
        "\r\n",
        "Pass -1 as the value, and NumPy will calculate this number for you."
      ]
    },
    {
      "cell_type": "markdown",
      "metadata": {
        "id": "-sR6XPdYjk7n"
      },
      "source": [
        "**Example**\r\n",
        "\r\n",
        "Convert 1D array with 8 elements to 3D array with 2x2 elements:"
      ]
    },
    {
      "cell_type": "code",
      "metadata": {
        "colab": {
          "base_uri": "https://localhost:8080/"
        },
        "id": "LQ7lkvfxjpTA",
        "outputId": "079280c3-bfeb-42a4-ed59-646a94e28071"
      },
      "source": [
        "import numpy as np\r\n",
        "\r\n",
        "arr = np.array([1, 2, 3, 4, 5, 6, 7, 8])\r\n",
        "\r\n",
        "newarr = arr.reshape(2, 2, -1)\r\n",
        "\r\n",
        "print(newarr)"
      ],
      "execution_count": null,
      "outputs": [
        {
          "output_type": "stream",
          "text": [
            "[[[1 2]\n",
            "  [3 4]]\n",
            "\n",
            " [[5 6]\n",
            "  [7 8]]]\n"
          ],
          "name": "stdout"
        }
      ]
    },
    {
      "cell_type": "markdown",
      "metadata": {
        "id": "lC7DNMBKjtjk"
      },
      "source": [
        "Note: We can not pass -1 to more than one dimension."
      ]
    },
    {
      "cell_type": "markdown",
      "metadata": {
        "id": "glURSv9RjxZo"
      },
      "source": [
        "**Flattening the arrays**\r\n",
        "\r\n",
        "Flattening array means converting a multidimensional array into a 1D array.\r\n",
        "\r\n",
        "We can use reshape(-1) to do this.\r\n",
        "\r\n",
        "**Example**\r\n",
        "\r\n",
        "Convert the array into a 1D array:"
      ]
    },
    {
      "cell_type": "code",
      "metadata": {
        "colab": {
          "base_uri": "https://localhost:8080/"
        },
        "id": "CPiJ8bBbj5NM",
        "outputId": "39399206-54f3-4400-8a3b-b651c27f4656"
      },
      "source": [
        "import numpy as np\r\n",
        "\r\n",
        "arr = np.array([[1, 2, 3], [4, 5, 6]])\r\n",
        "\r\n",
        "newarr = arr.reshape(-1)\r\n",
        "\r\n",
        "print(newarr)"
      ],
      "execution_count": null,
      "outputs": [
        {
          "output_type": "stream",
          "text": [
            "[1 2 3 4 5 6]\n"
          ],
          "name": "stdout"
        }
      ]
    },
    {
      "cell_type": "markdown",
      "metadata": {
        "id": "8RMZNLDrjnjJ"
      },
      "source": [
        "Note: There are a lot of functions for changing the shapes of arrays in numpy flatten, ravel and also for rearranging the elements rot90, flip, fliplr, flipud etc. These fall under Intermediate to Advanced section of numpy."
      ]
    },
    {
      "cell_type": "markdown",
      "metadata": {
        "id": "IgW9EOeXkFeo"
      },
      "source": [
        "**NumPy Array Iterating**"
      ]
    },
    {
      "cell_type": "markdown",
      "metadata": {
        "id": "305q-PS-kJ6Z"
      },
      "source": [
        "**Iterating Arrays**\r\n",
        "\r\n",
        "Iterating means going through elements one by one.\r\n",
        "\r\n",
        "As we deal with multi-dimensional arrays in numpy, we can do this using basic for loop of python.\r\n",
        "\r\n",
        "If we iterate on a 1-D array it will go through each element one by one."
      ]
    },
    {
      "cell_type": "markdown",
      "metadata": {
        "id": "GuocmhoUkQNg"
      },
      "source": [
        "**Example**\r\n",
        "\r\n",
        "Iterate on the elements of the following 1-D array:"
      ]
    },
    {
      "cell_type": "code",
      "metadata": {
        "colab": {
          "base_uri": "https://localhost:8080/"
        },
        "id": "cOv0tjbmkSgE",
        "outputId": "94a2c2bf-069b-4cea-d93c-6c6c03056f61"
      },
      "source": [
        "import numpy as np\r\n",
        "\r\n",
        "arr = np.array([1, 2, 3])\r\n",
        "\r\n",
        "for x in arr:\r\n",
        "  print(x)"
      ],
      "execution_count": null,
      "outputs": [
        {
          "output_type": "stream",
          "text": [
            "1\n",
            "2\n",
            "3\n"
          ],
          "name": "stdout"
        }
      ]
    },
    {
      "cell_type": "markdown",
      "metadata": {
        "id": "nBHpQZW9kdXP"
      },
      "source": [
        "**Iterating 2-D Arrays**\r\n",
        "\r\n",
        "In a 2-D array it will go through all the rows.\r\n",
        "\r\n",
        "**Example**\r\n",
        "\r\n",
        "Iterate on the elements of the following 2-D array:"
      ]
    },
    {
      "cell_type": "code",
      "metadata": {
        "colab": {
          "base_uri": "https://localhost:8080/"
        },
        "id": "Fmbnu-Qjkij6",
        "outputId": "1d95b323-ce21-400c-f04c-e211b35cd56f"
      },
      "source": [
        "import numpy as np\r\n",
        "\r\n",
        "arr = np.array([[1, 2, 3], [4, 5, 6]])\r\n",
        "\r\n",
        "for x in arr:\r\n",
        "  print(x)"
      ],
      "execution_count": null,
      "outputs": [
        {
          "output_type": "stream",
          "text": [
            "[1 2 3]\n",
            "[4 5 6]\n"
          ],
          "name": "stdout"
        }
      ]
    },
    {
      "cell_type": "markdown",
      "metadata": {
        "id": "qoeC43nfkm9k"
      },
      "source": [
        "If we iterate on a n-D array it will go through n-1th dimension one by one."
      ]
    },
    {
      "cell_type": "markdown",
      "metadata": {
        "id": "CEugNdr-kq3z"
      },
      "source": [
        "To return the actual values, the scalars, we have to iterate the arrays in each dimension.\r\n",
        "\r\n",
        "**Example**\r\n",
        "\r\n",
        "Iterate on each scalar element of the 2-D array:"
      ]
    },
    {
      "cell_type": "code",
      "metadata": {
        "colab": {
          "base_uri": "https://localhost:8080/"
        },
        "id": "4v_fHPQzk4S9",
        "outputId": "1ce04c12-da13-4f56-97a3-fc5c5bdcfbb2"
      },
      "source": [
        "import numpy as np\r\n",
        "\r\n",
        "arr = np.array([[1, 2, 3], [4, 5, 6]])\r\n",
        "\r\n",
        "for x in arr:\r\n",
        "  for y in x:\r\n",
        "    print(y)"
      ],
      "execution_count": null,
      "outputs": [
        {
          "output_type": "stream",
          "text": [
            "1\n",
            "2\n",
            "3\n",
            "4\n",
            "5\n",
            "6\n"
          ],
          "name": "stdout"
        }
      ]
    },
    {
      "cell_type": "markdown",
      "metadata": {
        "id": "7fES0kjYk88G"
      },
      "source": [
        "**Iterating 3-D Arrays**\r\n",
        "\r\n",
        "In a 3-D array it will go through all the 2-D arrays.\r\n",
        "\r\n",
        "**Example**\r\n",
        "\r\n",
        "Iterate on the elements of the following 3-D array:"
      ]
    },
    {
      "cell_type": "code",
      "metadata": {
        "colab": {
          "base_uri": "https://localhost:8080/"
        },
        "id": "QDHABHgqlEv8",
        "outputId": "aa349357-bd3a-4f1f-bb1d-93a9ddcfecf7"
      },
      "source": [
        "import numpy as np\r\n",
        "\r\n",
        "arr = np.array([[[1, 2, 3], [4, 5, 6]], [[7, 8, 9], [10, 11, 12]]])\r\n",
        "\r\n",
        "for x in arr:\r\n",
        "  print(x)"
      ],
      "execution_count": null,
      "outputs": [
        {
          "output_type": "stream",
          "text": [
            "[[1 2 3]\n",
            " [4 5 6]]\n",
            "[[ 7  8  9]\n",
            " [10 11 12]]\n"
          ],
          "name": "stdout"
        }
      ]
    },
    {
      "cell_type": "markdown",
      "metadata": {
        "id": "QJYfzobklIA8"
      },
      "source": [
        "To return the actual values, the scalars, we have to iterate the arrays in each dimension.\r\n",
        "\r\n",
        "**Example**\r\n",
        "\r\n",
        "Iterate down to the scalars:"
      ]
    },
    {
      "cell_type": "code",
      "metadata": {
        "colab": {
          "base_uri": "https://localhost:8080/"
        },
        "id": "L5dL5sQSlNC5",
        "outputId": "7dab3a8f-1571-4c61-c0d9-6da552f1784e"
      },
      "source": [
        "import numpy as np\r\n",
        "\r\n",
        "arr = np.array([[[1, 2, 3], [4, 5, 6]], [[7, 8, 9], [10, 11, 12]]])\r\n",
        "\r\n",
        "for x in arr:\r\n",
        "  for y in x:\r\n",
        "    for z in y:\r\n",
        "      print(z)"
      ],
      "execution_count": null,
      "outputs": [
        {
          "output_type": "stream",
          "text": [
            "1\n",
            "2\n",
            "3\n",
            "4\n",
            "5\n",
            "6\n",
            "7\n",
            "8\n",
            "9\n",
            "10\n",
            "11\n",
            "12\n"
          ],
          "name": "stdout"
        }
      ]
    },
    {
      "cell_type": "markdown",
      "metadata": {
        "id": "AMmds-shlRhM"
      },
      "source": [
        "**Iterating Arrays Using nditer()**\r\n",
        "\r\n",
        "The function nditer() is a helping function that can be used from very basic to very advanced iterations. It solves some basic issues which we face in iteration, lets go through it with examples.\r\n",
        "\r\n",
        "**Iterating on Each Scalar Element**\r\n",
        "\r\n",
        "In basic for loops, iterating through each scalar of an array we need to use n for loops which can be difficult to write for arrays with very high dimensionality.\r\n",
        "\r\n",
        "**Example**\r\n",
        "\r\n",
        "Iterate through the following 3-D array:"
      ]
    },
    {
      "cell_type": "code",
      "metadata": {
        "colab": {
          "base_uri": "https://localhost:8080/"
        },
        "id": "2_x4ei72lb6x",
        "outputId": "b86ab835-ba7b-4b53-8de0-f7815959cd50"
      },
      "source": [
        "import numpy as np\r\n",
        "\r\n",
        "arr = np.array([[[1, 2], [3, 4]], [[5, 6], [7, 8]]])\r\n",
        "\r\n",
        "for x in np.nditer(arr):\r\n",
        "  print(x)"
      ],
      "execution_count": null,
      "outputs": [
        {
          "output_type": "stream",
          "text": [
            "1\n",
            "2\n",
            "3\n",
            "4\n",
            "5\n",
            "6\n",
            "7\n",
            "8\n"
          ],
          "name": "stdout"
        }
      ]
    },
    {
      "cell_type": "markdown",
      "metadata": {
        "id": "PHydo1VJltSq"
      },
      "source": [
        "**Iterating Array With Different Data Types**\r\n",
        "\r\n",
        "We can use op_dtypes argument and pass it the expected datatype to change the datatype of elements while iterating.\r\n",
        "\r\n",
        "NumPy does not change the data type of the element in-place (where the element is in array) so it needs some other space to perform this action, that extra space is called buffer, and in order to enable it in nditer() we pass flags=['buffered'].\r\n",
        "\r\n",
        "**Example**\r\n",
        "\r\n",
        "Iterate through the array as a string:"
      ]
    },
    {
      "cell_type": "code",
      "metadata": {
        "colab": {
          "base_uri": "https://localhost:8080/"
        },
        "id": "NPfvSK67l3At",
        "outputId": "b78a5549-3996-4d3f-c3c5-61f3900510a6"
      },
      "source": [
        "import numpy as np\r\n",
        "\r\n",
        "arr = np.array([1, 2, 3])\r\n",
        "\r\n",
        "for x in np.nditer(arr, flags=['buffered'], op_dtypes=['S']):\r\n",
        "  print(x)"
      ],
      "execution_count": null,
      "outputs": [
        {
          "output_type": "stream",
          "text": [
            "b'1'\n",
            "b'2'\n",
            "b'3'\n"
          ],
          "name": "stdout"
        }
      ]
    },
    {
      "cell_type": "markdown",
      "metadata": {
        "id": "cnNlICQil739"
      },
      "source": [
        "**Iterating With Different Step Size**\r\n",
        "\r\n",
        "We can use filtering and followed by iteration.\r\n",
        "\r\n",
        "**Example**\r\n",
        "\r\n",
        "Iterate through every scalar element of the 2D array skipping 1 element:"
      ]
    },
    {
      "cell_type": "code",
      "metadata": {
        "colab": {
          "base_uri": "https://localhost:8080/"
        },
        "id": "Vs7f-uuImC9U",
        "outputId": "d68ce687-d4dc-4b19-a95a-ecae3452bfb3"
      },
      "source": [
        "import numpy as np\r\n",
        "\r\n",
        "arr = np.array([[1, 2, 3, 4], [5, 6, 7, 8]])\r\n",
        "\r\n",
        "for x in np.nditer(arr[:, ::2]):\r\n",
        "  print(x)"
      ],
      "execution_count": null,
      "outputs": [
        {
          "output_type": "stream",
          "text": [
            "1\n",
            "3\n",
            "5\n",
            "7\n"
          ],
          "name": "stdout"
        }
      ]
    },
    {
      "cell_type": "markdown",
      "metadata": {
        "id": "soM_zclEmH-Y"
      },
      "source": [
        "**Enumerated Iteration Using ndenumerate()**\r\n",
        "\r\n",
        "Enumeration means mentioning sequence number of somethings one by one.\r\n",
        "\r\n",
        "Sometimes we require corresponding index of the element while iterating, the ndenumerate() method can be used for those usecases.\r\n",
        "\r\n",
        "**Example**\r\n",
        "\r\n",
        "Enumerate on following 1D arrays elements:"
      ]
    },
    {
      "cell_type": "code",
      "metadata": {
        "colab": {
          "base_uri": "https://localhost:8080/"
        },
        "id": "-8PRzrv3mRXL",
        "outputId": "000ae5fc-dd70-4c5b-8fc3-8425f5af6e2c"
      },
      "source": [
        "import numpy as np\r\n",
        "\r\n",
        "arr = np.array([1, 2, 3])\r\n",
        "\r\n",
        "for idx, x in np.ndenumerate(arr):\r\n",
        "  print(idx, x)"
      ],
      "execution_count": null,
      "outputs": [
        {
          "output_type": "stream",
          "text": [
            "(0,) 1\n",
            "(1,) 2\n",
            "(2,) 3\n"
          ],
          "name": "stdout"
        }
      ]
    },
    {
      "cell_type": "markdown",
      "metadata": {
        "id": "ap-Pb22kmWfN"
      },
      "source": [
        "**Example**\r\n",
        "\r\n",
        "Enumerate on following 2D array's elements:"
      ]
    },
    {
      "cell_type": "code",
      "metadata": {
        "colab": {
          "base_uri": "https://localhost:8080/"
        },
        "id": "En3m126QmbPn",
        "outputId": "1b6a5163-4cb0-4968-fb21-f02032bd0dcd"
      },
      "source": [
        "import numpy as np\r\n",
        "\r\n",
        "arr = np.array([[1, 2, 3, 4], [5, 6, 7, 8]])\r\n",
        "\r\n",
        "for idx, x in np.ndenumerate(arr):\r\n",
        "  print(idx, x)"
      ],
      "execution_count": null,
      "outputs": [
        {
          "output_type": "stream",
          "text": [
            "(0, 0) 1\n",
            "(0, 1) 2\n",
            "(0, 2) 3\n",
            "(0, 3) 4\n",
            "(1, 0) 5\n",
            "(1, 1) 6\n",
            "(1, 2) 7\n",
            "(1, 3) 8\n"
          ],
          "name": "stdout"
        }
      ]
    },
    {
      "cell_type": "markdown",
      "metadata": {
        "id": "J58OeZjkmjXy"
      },
      "source": [
        "**NumPy Joining Array**"
      ]
    },
    {
      "cell_type": "markdown",
      "metadata": {
        "id": "WWfntq3YmtGf"
      },
      "source": [
        "**Joining NumPy Arrays**\r\n",
        "\r\n",
        "Joining means putting contents of two or more arrays in a single array.\r\n",
        "\r\n",
        "In SQL we join tables based on a key, whereas in NumPy we join arrays by axes.\r\n",
        "\r\n",
        "We pass a sequence of arrays that we want to join to the concatenate() function, along with the axis. If axis is not explicitly passed, it is taken as 0.\r\n",
        "\r\n",
        "**Example**\r\n",
        "Join two arrays"
      ]
    },
    {
      "cell_type": "code",
      "metadata": {
        "colab": {
          "base_uri": "https://localhost:8080/"
        },
        "id": "mLwoFwbCm2XZ",
        "outputId": "d175c3c6-e595-4242-9363-105954409245"
      },
      "source": [
        "import numpy as np\r\n",
        "\r\n",
        "arr1 = np.array([1, 2, 3])\r\n",
        "\r\n",
        "arr2 = np.array([4, 5, 6])\r\n",
        "\r\n",
        "arr = np.concatenate((arr1, arr2))\r\n",
        "\r\n",
        "print(arr)\r\n"
      ],
      "execution_count": null,
      "outputs": [
        {
          "output_type": "stream",
          "text": [
            "[1 2 3 4 5 6]\n"
          ],
          "name": "stdout"
        }
      ]
    },
    {
      "cell_type": "markdown",
      "metadata": {
        "id": "D1Uk1VG0m8AQ"
      },
      "source": [
        "**Example**\r\n",
        "\r\n",
        "Join two 2-D arrays along rows (axis=1):"
      ]
    },
    {
      "cell_type": "code",
      "metadata": {
        "colab": {
          "base_uri": "https://localhost:8080/"
        },
        "id": "eJjPjgg4m_Hr",
        "outputId": "56a607a4-2f66-414f-b5a5-b385f3a9cf81"
      },
      "source": [
        "import numpy as np\r\n",
        "\r\n",
        "arr1 = np.array([[1, 2], [3, 4]])\r\n",
        "\r\n",
        "arr2 = np.array([[5, 6], [7, 8]])\r\n",
        "\r\n",
        "arr = np.concatenate((arr1, arr2), axis=1)\r\n",
        "\r\n",
        "print(arr)"
      ],
      "execution_count": null,
      "outputs": [
        {
          "output_type": "stream",
          "text": [
            "[[1 2 5 6]\n",
            " [3 4 7 8]]\n"
          ],
          "name": "stdout"
        }
      ]
    },
    {
      "cell_type": "markdown",
      "metadata": {
        "id": "FG1hLAW9nFA5"
      },
      "source": [
        "**Joining Arrays Using Stack Functions**\r\n",
        "\r\n",
        "Stacking is same as concatenation, the only difference is that stacking is done along a new axis.\r\n",
        "\r\n",
        "We can concatenate two 1-D arrays along the second axis which would result in putting them one over the other, ie. stacking.\r\n",
        "\r\n",
        "We pass a sequence of arrays that we want to join to the stack() method along with the axis. If axis is not explicitly passed it is taken as 0.\r\n",
        "\r\n",
        "**Example**"
      ]
    },
    {
      "cell_type": "code",
      "metadata": {
        "colab": {
          "base_uri": "https://localhost:8080/"
        },
        "id": "aI1cKucAnLmt",
        "outputId": "d86692aa-ee71-46cb-ce60-3e36e6792561"
      },
      "source": [
        "import numpy as np\r\n",
        "\r\n",
        "arr1 = np.array([1, 2, 3])\r\n",
        "\r\n",
        "arr2 = np.array([4, 5, 6])\r\n",
        "\r\n",
        "arr = np.stack((arr1, arr2), axis=1)\r\n",
        "\r\n",
        "print(arr)"
      ],
      "execution_count": null,
      "outputs": [
        {
          "output_type": "stream",
          "text": [
            "[[1 4]\n",
            " [2 5]\n",
            " [3 6]]\n"
          ],
          "name": "stdout"
        }
      ]
    },
    {
      "cell_type": "markdown",
      "metadata": {
        "id": "g1Q9SGQMnSNE"
      },
      "source": [
        "**Stacking Along Rows**\r\n",
        "\r\n",
        "NumPy provides a helper function: hstack() to stack along rows.\r\n",
        "\r\n",
        "**Example**"
      ]
    },
    {
      "cell_type": "code",
      "metadata": {
        "colab": {
          "base_uri": "https://localhost:8080/"
        },
        "id": "gdhl16qxnZJB",
        "outputId": "13b6a55c-951b-43bd-e6f0-cb61b683c327"
      },
      "source": [
        "import numpy as np\r\n",
        "\r\n",
        "arr1 = np.array([1, 2, 3])\r\n",
        "\r\n",
        "arr2 = np.array([4, 5, 6])\r\n",
        "\r\n",
        "arr = np.hstack((arr1, arr2))\r\n",
        "\r\n",
        "print(arr)\r\n"
      ],
      "execution_count": null,
      "outputs": [
        {
          "output_type": "stream",
          "text": [
            "[1 2 3 4 5 6]\n"
          ],
          "name": "stdout"
        }
      ]
    },
    {
      "cell_type": "markdown",
      "metadata": {
        "id": "_XVbdPkFnc-I"
      },
      "source": [
        "**Stacking Along Columns**\r\n",
        "\r\n",
        "NumPy provides a helper function: vstack()  to stack along columns.\r\n",
        "\r\n",
        "**Example**"
      ]
    },
    {
      "cell_type": "code",
      "metadata": {
        "colab": {
          "base_uri": "https://localhost:8080/"
        },
        "id": "zHaPLdaLnjD1",
        "outputId": "65b0a391-3eb4-4215-dcc6-56821e12c8b7"
      },
      "source": [
        "import numpy as np\r\n",
        "\r\n",
        "arr1 = np.array([1, 2, 3])\r\n",
        "\r\n",
        "arr2 = np.array([4, 5, 6])\r\n",
        "\r\n",
        "arr = np.vstack((arr1, arr2))\r\n",
        "\r\n",
        "print(arr)\r\n"
      ],
      "execution_count": null,
      "outputs": [
        {
          "output_type": "stream",
          "text": [
            "[[1 2 3]\n",
            " [4 5 6]]\n"
          ],
          "name": "stdout"
        }
      ]
    },
    {
      "cell_type": "markdown",
      "metadata": {
        "id": "1aEVHfmmnowW"
      },
      "source": [
        "**Stacking Along Height (depth)**\r\n",
        "\r\n",
        "NumPy provides a helper function: dstack() to stack along height, which is the same as depth.\r\n",
        "\r\n",
        "**Example**"
      ]
    },
    {
      "cell_type": "code",
      "metadata": {
        "colab": {
          "base_uri": "https://localhost:8080/"
        },
        "id": "vo4DCtU-nwGa",
        "outputId": "eb958a54-4fb0-4337-f0f8-4ef45d47eb7b"
      },
      "source": [
        "import numpy as np\r\n",
        "\r\n",
        "arr1 = np.array([1, 2, 3])\r\n",
        "\r\n",
        "arr2 = np.array([4, 5, 6])\r\n",
        "\r\n",
        "arr = np.dstack((arr1, arr2))\r\n",
        "\r\n",
        "print(arr)"
      ],
      "execution_count": null,
      "outputs": [
        {
          "output_type": "stream",
          "text": [
            "[[[1 4]\n",
            "  [2 5]\n",
            "  [3 6]]]\n"
          ],
          "name": "stdout"
        }
      ]
    },
    {
      "cell_type": "markdown",
      "metadata": {
        "id": "sG8LCe2Cn1xE"
      },
      "source": [
        "**NumPy Splitting Array**"
      ]
    },
    {
      "cell_type": "markdown",
      "metadata": {
        "id": "BGpE1jOhn5rU"
      },
      "source": [
        "**Splitting NumPy Arrays**\r\n",
        "\r\n",
        "Splitting is reverse operation of Joining.\r\n",
        "\r\n",
        "Joining merges multiple arrays into one and Splitting breaks one array into multiple.\r\n",
        "\r\n",
        "We use array_split() for splitting arrays, we pass it the array we want to split and the number of splits.\r\n",
        "\r\n",
        "**Example**\r\n",
        "\r\n",
        "Split the array in 3 parts:"
      ]
    },
    {
      "cell_type": "code",
      "metadata": {
        "colab": {
          "base_uri": "https://localhost:8080/"
        },
        "id": "mgWiinRfoEgk",
        "outputId": "c1f7321b-4546-4654-c46b-008041c595bd"
      },
      "source": [
        "import numpy as np\r\n",
        "\r\n",
        "arr = np.array([1, 2, 3, 4, 5, 6])\r\n",
        "\r\n",
        "newarr = np.array_split(arr, 3)\r\n",
        "\r\n",
        "print(newarr)"
      ],
      "execution_count": null,
      "outputs": [
        {
          "output_type": "stream",
          "text": [
            "[array([1, 2]), array([3, 4]), array([5, 6])]\n"
          ],
          "name": "stdout"
        }
      ]
    },
    {
      "cell_type": "markdown",
      "metadata": {
        "id": "FcxaDu1koK9_"
      },
      "source": [
        "**Note: The return value is an array containing three arrays.**"
      ]
    },
    {
      "cell_type": "markdown",
      "metadata": {
        "id": "UBmLDJyHoU4U"
      },
      "source": [
        "If the array has less elements than required, it will adjust from the end accordingly.\r\n",
        "\r\n",
        "**Example**\r\n",
        "\r\n",
        "Split the array in 4 parts:"
      ]
    },
    {
      "cell_type": "code",
      "metadata": {
        "colab": {
          "base_uri": "https://localhost:8080/"
        },
        "id": "VG6rF-0hoZjW",
        "outputId": "6a517382-fe02-49b2-eb55-0917d3d6c5e5"
      },
      "source": [
        "import numpy as np\r\n",
        "\r\n",
        "arr = np.array([1, 2, 3, 4, 5, 6])\r\n",
        "\r\n",
        "newarr = np.array_split(arr, 4)\r\n",
        "\r\n",
        "print(newarr)"
      ],
      "execution_count": null,
      "outputs": [
        {
          "output_type": "stream",
          "text": [
            "[array([1, 2]), array([3, 4]), array([5]), array([6])]\n"
          ],
          "name": "stdout"
        }
      ]
    },
    {
      "cell_type": "markdown",
      "metadata": {
        "id": "7M1LALGroeMn"
      },
      "source": [
        "Note: We also have the method split() available but it will not adjust the elements when elements are less in source array for splitting like in example above, array_split() worked properly but split() would fail."
      ]
    },
    {
      "cell_type": "markdown",
      "metadata": {
        "id": "pT_LIlrdoiEc"
      },
      "source": [
        "**Split Into Arrays**\r\n",
        "\r\n",
        "The return value of the array_split() method is an array containing each of the split as an array.\r\n",
        "\r\n",
        "If you split an array into 3 arrays, you can access them from the result just like any array element:\r\n",
        "\r\n",
        "**Example**\r\n",
        "\r\n",
        "Access the splitted arrays:"
      ]
    },
    {
      "cell_type": "code",
      "metadata": {
        "colab": {
          "base_uri": "https://localhost:8080/"
        },
        "id": "vOBKlcuIooLh",
        "outputId": "553a841e-d87c-4472-a1da-c943493ed86a"
      },
      "source": [
        "import numpy as np\r\n",
        "\r\n",
        "arr = np.array([1, 2, 3, 4, 5, 6])\r\n",
        "\r\n",
        "newarr = np.array_split(arr, 3)\r\n",
        "\r\n",
        "print(newarr[0])\r\n",
        "print(newarr[1])\r\n",
        "print(newarr[2])"
      ],
      "execution_count": null,
      "outputs": [
        {
          "output_type": "stream",
          "text": [
            "[1 2]\n",
            "[3 4]\n",
            "[5 6]\n"
          ],
          "name": "stdout"
        }
      ]
    },
    {
      "cell_type": "markdown",
      "metadata": {
        "id": "HvTw6bxaousY"
      },
      "source": [
        "**Splitting 2-D Arrays**\r\n",
        "\r\n",
        "Use the same syntax when splitting 2-D arrays.\r\n",
        "\r\n",
        "Use the array_split() method, pass in the array you want to split and the number of splits you want to do.\r\n",
        "\r\n",
        "**Example**\r\n",
        "\r\n",
        "Split the 2-D array into three 2-D arrays.\r\n",
        "\r\n"
      ]
    },
    {
      "cell_type": "code",
      "metadata": {
        "colab": {
          "base_uri": "https://localhost:8080/"
        },
        "id": "Re9gc_A5o20E",
        "outputId": "506e04c0-5e25-461e-f0df-c3421a9f3d3d"
      },
      "source": [
        "import numpy as np\r\n",
        "\r\n",
        "arr = np.array([[1, 2], [3, 4], [5, 6], [7, 8], [9, 10], [11, 12]])\r\n",
        "\r\n",
        "newarr = np.array_split(arr, 3)\r\n",
        "\r\n",
        "print(newarr)"
      ],
      "execution_count": null,
      "outputs": [
        {
          "output_type": "stream",
          "text": [
            "[array([[1, 2],\n",
            "       [3, 4]]), array([[5, 6],\n",
            "       [7, 8]]), array([[ 9, 10],\n",
            "       [11, 12]])]\n"
          ],
          "name": "stdout"
        }
      ]
    },
    {
      "cell_type": "markdown",
      "metadata": {
        "id": "N6_96JbPo8g8"
      },
      "source": [
        "**The example above returns three 2-D arrays.**\r\n",
        "\r\n",
        "Let's look at another example, this time each element in the 2-D arrays contains 3 elements.\r\n",
        "\r\n",
        "**Example**\r\n",
        "\r\n",
        "Split the 2-D array into three 2-D arrays."
      ]
    },
    {
      "cell_type": "code",
      "metadata": {
        "colab": {
          "base_uri": "https://localhost:8080/"
        },
        "id": "G1UD1EOtpEaL",
        "outputId": "cf2d4620-650f-41df-ef7a-008f0b1cd32e"
      },
      "source": [
        "import numpy as np\r\n",
        "\r\n",
        "arr = np.array([[1, 2, 3], [4, 5, 6], [7, 8, 9], [10, 11, 12], [13, 14, 15], [16, 17, 18]])\r\n",
        "\r\n",
        "newarr = np.array_split(arr, 3)\r\n",
        "\r\n",
        "print(newarr)"
      ],
      "execution_count": null,
      "outputs": [
        {
          "output_type": "stream",
          "text": [
            "[array([[1, 2, 3],\n",
            "       [4, 5, 6]]), array([[ 7,  8,  9],\n",
            "       [10, 11, 12]]), array([[13, 14, 15],\n",
            "       [16, 17, 18]])]\n"
          ],
          "name": "stdout"
        }
      ]
    },
    {
      "cell_type": "markdown",
      "metadata": {
        "id": "4Kh46bH-pI7O"
      },
      "source": [
        "The example above returns three 2-D arrays.\r\n",
        "\r\n",
        "In addition, you can specify which axis you want to do the split around.\r\n",
        "\r\n",
        "The example below also returns three 2-D arrays, but they are split along the row (axis=1)."
      ]
    },
    {
      "cell_type": "markdown",
      "metadata": {
        "id": "Z28deHGbpLC4"
      },
      "source": [
        "***Example***\r\n",
        "\r\n",
        "Split the 2-D array into three 2-D arrays along rows."
      ]
    },
    {
      "cell_type": "code",
      "metadata": {
        "colab": {
          "base_uri": "https://localhost:8080/"
        },
        "id": "ABsomlXCpQn_",
        "outputId": "37428944-720b-42bc-b28d-fd765445e4f7"
      },
      "source": [
        "import numpy as np\r\n",
        "\r\n",
        "arr = np.array([[1, 2, 3], [4, 5, 6], [7, 8, 9], [10, 11, 12], [13, 14, 15], [16, 17, 18]])\r\n",
        "\r\n",
        "newarr = np.array_split(arr, 3, axis=1)\r\n",
        "\r\n",
        "print(newarr)"
      ],
      "execution_count": null,
      "outputs": [
        {
          "output_type": "stream",
          "text": [
            "[array([[ 1],\n",
            "       [ 4],\n",
            "       [ 7],\n",
            "       [10],\n",
            "       [13],\n",
            "       [16]]), array([[ 2],\n",
            "       [ 5],\n",
            "       [ 8],\n",
            "       [11],\n",
            "       [14],\n",
            "       [17]]), array([[ 3],\n",
            "       [ 6],\n",
            "       [ 9],\n",
            "       [12],\n",
            "       [15],\n",
            "       [18]])]\n"
          ],
          "name": "stdout"
        }
      ]
    },
    {
      "cell_type": "markdown",
      "metadata": {
        "id": "WT7fBM8QpVU2"
      },
      "source": [
        "An alternate solution is using hsplit() opposite of hstack()"
      ]
    },
    {
      "cell_type": "markdown",
      "metadata": {
        "id": "HbveqMripX_X"
      },
      "source": [
        "**Example**\r\n",
        "\r\n",
        "Use the hsplit() method to split the 2-D array into three 2-D arrays along rows."
      ]
    },
    {
      "cell_type": "code",
      "metadata": {
        "colab": {
          "base_uri": "https://localhost:8080/"
        },
        "id": "Rk6mRWf9pb9y",
        "outputId": "6d600864-055a-46bc-fc0e-d971c0cb2721"
      },
      "source": [
        "import numpy as np\r\n",
        "\r\n",
        "arr = np.array([[1, 2, 3], [4, 5, 6], [7, 8, 9], [10, 11, 12], [13, 14, 15], [16, 17, 18]])\r\n",
        "\r\n",
        "newarr = np.hsplit(arr, 3)\r\n",
        "\r\n",
        "print(newarr)"
      ],
      "execution_count": null,
      "outputs": [
        {
          "output_type": "stream",
          "text": [
            "[array([[ 1],\n",
            "       [ 4],\n",
            "       [ 7],\n",
            "       [10],\n",
            "       [13],\n",
            "       [16]]), array([[ 2],\n",
            "       [ 5],\n",
            "       [ 8],\n",
            "       [11],\n",
            "       [14],\n",
            "       [17]]), array([[ 3],\n",
            "       [ 6],\n",
            "       [ 9],\n",
            "       [12],\n",
            "       [15],\n",
            "       [18]])]\n"
          ],
          "name": "stdout"
        }
      ]
    },
    {
      "cell_type": "markdown",
      "metadata": {
        "id": "GDYDKL0OphTY"
      },
      "source": [
        "Note: Similar alternates to vstack() and dstack() are available as vsplit() and dsplit()"
      ]
    },
    {
      "cell_type": "markdown",
      "metadata": {
        "id": "MNsGe1dH57Mb"
      },
      "source": [
        "**NumPy Searching Arrays**\r\n",
        "\r\n",
        "**Searching Arrays**\r\n",
        "\r\n",
        "You can search an array for a certain value, and return the indexes that get a match.\r\n",
        "\r\n",
        "To search an array, use the where() method.\r\n",
        "\r\n",
        "**Example**\r\n",
        "\r\n",
        "Find the indexes where the value is 4:"
      ]
    },
    {
      "cell_type": "code",
      "metadata": {
        "colab": {
          "base_uri": "https://localhost:8080/"
        },
        "id": "yZcgw2nU6Kg4",
        "outputId": "298e1aff-2981-4039-aede-ed1bcdae999d"
      },
      "source": [
        "import numpy as np\r\n",
        "\r\n",
        "arr = np.array([1, 2, 3, 4, 5, 4, 4])\r\n",
        "\r\n",
        "x = np.where(arr == 4)\r\n",
        "\r\n",
        "print(x)"
      ],
      "execution_count": null,
      "outputs": [
        {
          "output_type": "stream",
          "text": [
            "(array([3, 5, 6]),)\n"
          ],
          "name": "stdout"
        }
      ]
    },
    {
      "cell_type": "markdown",
      "metadata": {
        "id": "1rMtmzS_6PT4"
      },
      "source": [
        "The example above will return a tuple: (array([3, 5, 6],)\r\n",
        "\r\n",
        "Which means that the value 4 is present at index 3, 5, and 6.\r\n",
        "\r\n",
        "**Example**\r\n",
        "\r\n",
        "Find the indexes where the values are even:"
      ]
    },
    {
      "cell_type": "code",
      "metadata": {
        "colab": {
          "base_uri": "https://localhost:8080/"
        },
        "id": "CVNjJ6px6XH2",
        "outputId": "beb31503-683b-45ad-d3ee-8138702f453f"
      },
      "source": [
        "import numpy as np\r\n",
        "\r\n",
        "arr = np.array([1, 2, 3, 4, 5, 6, 7, 8])\r\n",
        "\r\n",
        "x = np.where(arr%2 == 0)\r\n",
        "\r\n",
        "print(x)\r\n"
      ],
      "execution_count": null,
      "outputs": [
        {
          "output_type": "stream",
          "text": [
            "(array([1, 3, 5, 7]),)\n"
          ],
          "name": "stdout"
        }
      ]
    },
    {
      "cell_type": "markdown",
      "metadata": {
        "id": "ptrV96RS6eUD"
      },
      "source": [
        "**Example**\r\n",
        "\r\n",
        "Find the indexes where the values are odd"
      ]
    },
    {
      "cell_type": "code",
      "metadata": {
        "colab": {
          "base_uri": "https://localhost:8080/"
        },
        "id": "KL19BblV6h4l",
        "outputId": "46a4e66f-9273-440d-fc5d-283926dde505"
      },
      "source": [
        "import numpy as np\r\n",
        "\r\n",
        "arr = np.array([1, 2, 3, 4, 5, 6, 7, 8])\r\n",
        "\r\n",
        "x = np.where(arr%2 == 1)\r\n",
        "\r\n",
        "print(x)"
      ],
      "execution_count": null,
      "outputs": [
        {
          "output_type": "stream",
          "text": [
            "(array([0, 2, 4, 6]),)\n"
          ],
          "name": "stdout"
        }
      ]
    },
    {
      "cell_type": "markdown",
      "metadata": {
        "id": "F8mwrJpx6ndP"
      },
      "source": [
        "**Search Sorted**\r\n",
        "\r\n",
        "There is a method called searchsorted() which performs a binary search in the array, and returns the index where the specified value would be inserted to maintain the search order.\r\n",
        "\r\n",
        "The searchsorted() method is assumed to be used on sorted arrays."
      ]
    },
    {
      "cell_type": "markdown",
      "metadata": {
        "id": "2oKZq-oW6rWF"
      },
      "source": [
        "**Example**\r\n",
        "\r\n",
        "Find the indexes where the value 7 should be inserted:"
      ]
    },
    {
      "cell_type": "code",
      "metadata": {
        "colab": {
          "base_uri": "https://localhost:8080/"
        },
        "id": "s_76Ikoz6wjl",
        "outputId": "4a14cebf-7b8c-45d6-e36b-30eef2ee97aa"
      },
      "source": [
        "import numpy as np\r\n",
        "\r\n",
        "arr = np.array([6, 7, 8, 9])\r\n",
        "\r\n",
        "x = np.searchsorted(arr, 7)\r\n",
        "\r\n",
        "print(x)"
      ],
      "execution_count": null,
      "outputs": [
        {
          "output_type": "stream",
          "text": [
            "1\n"
          ],
          "name": "stdout"
        }
      ]
    },
    {
      "cell_type": "markdown",
      "metadata": {
        "id": "XPR-UTQA6z6s"
      },
      "source": [
        "Example explained: The number 7 should be inserted on index 1 to remain the sort order.\r\n",
        "\r\n",
        "The method starts the search from the left and returns the first index where the number 7 is no longer larger than the next value."
      ]
    },
    {
      "cell_type": "markdown",
      "metadata": {
        "id": "H7A1aGTA63z_"
      },
      "source": [
        "**Search From the Right Side**\r\n",
        "\r\n",
        "By default the left most index is returned, but we can give side='right' to return the right most index instead.\r\n",
        "\r\n",
        "**Example**\r\n",
        "\r\n",
        "Find the indexes where the value 7 should be inserted, starting from the right:"
      ]
    },
    {
      "cell_type": "code",
      "metadata": {
        "colab": {
          "base_uri": "https://localhost:8080/"
        },
        "id": "Lg_3Q_O76_fz",
        "outputId": "c1968666-57e0-45c3-cf12-9422cd1b5199"
      },
      "source": [
        "import numpy as np\r\n",
        "\r\n",
        "arr = np.array([6, 7, 8, 9])\r\n",
        "\r\n",
        "x = np.searchsorted(arr, 7, side='right')\r\n",
        "\r\n",
        "print(x)"
      ],
      "execution_count": null,
      "outputs": [
        {
          "output_type": "stream",
          "text": [
            "2\n"
          ],
          "name": "stdout"
        }
      ]
    },
    {
      "cell_type": "markdown",
      "metadata": {
        "id": "hxuWr2967EgD"
      },
      "source": [
        "Example explained: The number 7 should be inserted on index 2 to remain the sort order.\r\n",
        "\r\n",
        "The method starts the search from the right and returns the first index where the number 7 is no longer less than the next value."
      ]
    },
    {
      "cell_type": "markdown",
      "metadata": {
        "id": "_49J6WHz7G9x"
      },
      "source": [
        "**Multiple Values**\r\n",
        "\r\n",
        "To search for more than one value, use an array with the specified values.\r\n",
        "\r\n",
        "**Example**\r\n",
        "\r\n",
        "Find the indexes where the values 2, 4, and 6 should be inserted:"
      ]
    },
    {
      "cell_type": "code",
      "metadata": {
        "colab": {
          "base_uri": "https://localhost:8080/"
        },
        "id": "mPuE8CNJ7Nks",
        "outputId": "e0ce4f44-7867-4e7c-a122-755c3689b672"
      },
      "source": [
        "import numpy as np\r\n",
        "\r\n",
        "arr = np.array([1, 3, 5, 7])\r\n",
        "\r\n",
        "x = np.searchsorted(arr, [2, 4, 6])\r\n",
        "\r\n",
        "print(x)"
      ],
      "execution_count": null,
      "outputs": [
        {
          "output_type": "stream",
          "text": [
            "[1 2 3]\n"
          ],
          "name": "stdout"
        }
      ]
    },
    {
      "cell_type": "markdown",
      "metadata": {
        "id": "vnmmrZK07RR5"
      },
      "source": [
        "The return value is an array: [1 2 3] containing the three indexes where 2, 4, 6 would be inserted in the original array to maintain the order."
      ]
    },
    {
      "cell_type": "markdown",
      "metadata": {
        "id": "nZ3x7Bf57Uos"
      },
      "source": [
        "**NumPy Sorting Arrays**\r\n",
        "\r\n",
        "**Sorting Arrays**\r\n",
        "\r\n",
        "Sorting means putting elements in an ordered sequence.\r\n",
        "\r\n",
        "Ordered sequence is any sequence that has an order corresponding to elements, like numeric or alphabetical, ascending or descending.\r\n",
        "\r\n",
        "The NumPy ndarray object has a function called sort(), that will sort a specified array.\r\n",
        "\r\n",
        "**Example**\r\n",
        "\r\n",
        "Sort the array:"
      ]
    },
    {
      "cell_type": "code",
      "metadata": {
        "colab": {
          "base_uri": "https://localhost:8080/"
        },
        "id": "XaoXC5vi7hH2",
        "outputId": "7786fef5-4d11-4f0e-ff6b-7d6d6371f046"
      },
      "source": [
        "import numpy as np\r\n",
        "\r\n",
        "arr = np.array([3, 2, 0, 1])\r\n",
        "\r\n",
        "print(np.sort(arr))\r\n"
      ],
      "execution_count": null,
      "outputs": [
        {
          "output_type": "stream",
          "text": [
            "[0 1 2 3]\n"
          ],
          "name": "stdout"
        }
      ]
    },
    {
      "cell_type": "markdown",
      "metadata": {
        "id": "XYX8MQbC7m1i"
      },
      "source": [
        "Note: This method returns a copy of the array, leaving the original array unchanged."
      ]
    },
    {
      "cell_type": "markdown",
      "metadata": {
        "id": "PxWFi3np7pvr"
      },
      "source": [
        "You can also sort arrays of strings, or any other data type:\r\n",
        "\r\n",
        "**Example**\r\n",
        "\r\n",
        "Sort the array alphabetically:"
      ]
    },
    {
      "cell_type": "code",
      "metadata": {
        "colab": {
          "base_uri": "https://localhost:8080/"
        },
        "id": "HbRrB72J7vus",
        "outputId": "aa8445b2-8a0e-4f8e-e7b8-4f72f4037609"
      },
      "source": [
        "import numpy as np\r\n",
        "\r\n",
        "arr = np.array(['banana', 'cherry', 'apple'])\r\n",
        "\r\n",
        "print(np.sort(arr))"
      ],
      "execution_count": null,
      "outputs": [
        {
          "output_type": "stream",
          "text": [
            "['apple' 'banana' 'cherry']\n"
          ],
          "name": "stdout"
        }
      ]
    },
    {
      "cell_type": "markdown",
      "metadata": {
        "id": "-r0ywcoW7z-l"
      },
      "source": [
        "**Example**\r\n",
        "\r\n",
        "Sort a boolean array:"
      ]
    },
    {
      "cell_type": "code",
      "metadata": {
        "colab": {
          "base_uri": "https://localhost:8080/"
        },
        "id": "Op1zcng373ai",
        "outputId": "33f7c990-e250-468e-f495-77c7109a8b72"
      },
      "source": [
        "import numpy as np\r\n",
        "\r\n",
        "arr = np.array([True, False, True])\r\n",
        "\r\n",
        "print(np.sort(arr))"
      ],
      "execution_count": null,
      "outputs": [
        {
          "output_type": "stream",
          "text": [
            "[False  True  True]\n"
          ],
          "name": "stdout"
        }
      ]
    },
    {
      "cell_type": "markdown",
      "metadata": {
        "id": "7uqQEiL677jH"
      },
      "source": [
        "**Sorting a 2-D Array**\r\n",
        "\r\n",
        "If you use the sort() method on a 2-D array, both arrays will be sorted:\r\n",
        "\r\n",
        "**Example**\r\n",
        "\r\n",
        "Sort a 2-D array:"
      ]
    },
    {
      "cell_type": "code",
      "metadata": {
        "colab": {
          "base_uri": "https://localhost:8080/"
        },
        "id": "emyyHIZ98Bcp",
        "outputId": "0a4a7548-259f-438f-e812-3902bc52f3fd"
      },
      "source": [
        "import numpy as np\r\n",
        "\r\n",
        "arr = np.array([[3, 2, 4], [5, 0, 1]])\r\n",
        "\r\n",
        "print(np.sort(arr))"
      ],
      "execution_count": null,
      "outputs": [
        {
          "output_type": "stream",
          "text": [
            "[[2 3 4]\n",
            " [0 1 5]]\n"
          ],
          "name": "stdout"
        }
      ]
    },
    {
      "cell_type": "markdown",
      "metadata": {
        "id": "z-ZBmgn_8FwR"
      },
      "source": [
        "**NumPy Filter Array**\r\n",
        "\r\n",
        "**Filtering Arrays**\r\n",
        "\r\n",
        "Getting some elements out of an existing array and creating a new array out of them is called filtering.\r\n",
        "\r\n",
        "In NumPy, you filter an array using a boolean index list."
      ]
    },
    {
      "cell_type": "markdown",
      "metadata": {
        "id": "lhYdHopc8QNf"
      },
      "source": [
        "A boolean index list is a list of booleans corresponding to indexes in the array."
      ]
    },
    {
      "cell_type": "markdown",
      "metadata": {
        "id": "uGG0evUq8SnX"
      },
      "source": [
        "If the value at an index is True that element is contained in the filtered array, if the value at that index is False that element is excluded from the filtered array."
      ]
    },
    {
      "cell_type": "markdown",
      "metadata": {
        "id": "mkoIkUiN8Ukf"
      },
      "source": [
        "**Example**\r\n",
        "\r\n",
        "Create an array from the elements on index 0 and 2:"
      ]
    },
    {
      "cell_type": "code",
      "metadata": {
        "colab": {
          "base_uri": "https://localhost:8080/"
        },
        "id": "O981H_yq8YXB",
        "outputId": "42d053ea-fcb5-4637-f8ae-b5c7f5a1e9fc"
      },
      "source": [
        "import numpy as np\r\n",
        "\r\n",
        "arr = np.array([41, 42, 43, 44])\r\n",
        "\r\n",
        "x = [True, False, True, False]\r\n",
        "\r\n",
        "newarr = arr[x]\r\n",
        "\r\n",
        "print(newarr)\r\n"
      ],
      "execution_count": null,
      "outputs": [
        {
          "output_type": "stream",
          "text": [
            "[41 43]\n"
          ],
          "name": "stdout"
        }
      ]
    },
    {
      "cell_type": "markdown",
      "metadata": {
        "id": "bHFSSVn98eFU"
      },
      "source": [
        "The example above will return [41, 43], why?\r\n",
        "\r\n",
        "Because the new filter contains only the values where the filter array had the value True, in this case, index 0 and 2."
      ]
    },
    {
      "cell_type": "markdown",
      "metadata": {
        "id": "Cl20gJu78gfY"
      },
      "source": [
        "**Creating the Filter Array**\r\n",
        "\r\n",
        "In the example above we hard-coded the True and False values, but the common use is to create a filter array based on conditions.\r\n",
        "\r\n",
        "**Example**\r\n",
        "\r\n",
        "Create a filter array that will return only values higher than 42:"
      ]
    },
    {
      "cell_type": "code",
      "metadata": {
        "colab": {
          "base_uri": "https://localhost:8080/"
        },
        "id": "YN0ly3o18rhD",
        "outputId": "8c2ea735-f0b5-46e1-b0b8-b1df983a74ab"
      },
      "source": [
        "import numpy as np\r\n",
        "\r\n",
        "arr = np.array([41, 42, 43, 44])\r\n",
        "\r\n",
        "# Create an empty list\r\n",
        "filter_arr = []\r\n",
        "\r\n",
        "# go through each element in arr\r\n",
        "for element in arr:\r\n",
        "  # if the element is higher than 42, set the value to True, otherwise False:\r\n",
        "  if element > 42:\r\n",
        "    filter_arr.append(True)\r\n",
        "  else:\r\n",
        "    filter_arr.append(False)\r\n",
        "\r\n",
        "newarr = arr[filter_arr]\r\n",
        "\r\n",
        "print(filter_arr)\r\n",
        "print(newarr)\r\n"
      ],
      "execution_count": null,
      "outputs": [
        {
          "output_type": "stream",
          "text": [
            "[False, False, True, True]\n",
            "[43 44]\n"
          ],
          "name": "stdout"
        }
      ]
    },
    {
      "cell_type": "markdown",
      "metadata": {
        "id": "Slsux7Hh8519"
      },
      "source": [
        "**Example**\r\n",
        "\r\n",
        "Create a filter array that will return only even elements from the original array:"
      ]
    },
    {
      "cell_type": "code",
      "metadata": {
        "colab": {
          "base_uri": "https://localhost:8080/"
        },
        "id": "gx33gCEV8-ZJ",
        "outputId": "1df47f84-415b-44bb-c36e-38e6a2973805"
      },
      "source": [
        "import numpy as np\r\n",
        "\r\n",
        "arr = np.array([1, 2, 3, 4, 5, 6, 7])\r\n",
        "\r\n",
        "# Create an empty list\r\n",
        "filter_arr = []\r\n",
        "\r\n",
        "# go through each element in arr\r\n",
        "for element in arr:\r\n",
        "  # if the element is completely divisble by 2, set the value to True, otherwise False\r\n",
        "  if element % 2 == 0:\r\n",
        "    filter_arr.append(True)\r\n",
        "  else:\r\n",
        "    filter_arr.append(False)\r\n",
        "\r\n",
        "newarr = arr[filter_arr]\r\n",
        "\r\n",
        "print(filter_arr)\r\n",
        "print(newarr)"
      ],
      "execution_count": null,
      "outputs": [
        {
          "output_type": "stream",
          "text": [
            "[False, True, False, True, False, True, False]\n",
            "[2 4 6]\n"
          ],
          "name": "stdout"
        }
      ]
    },
    {
      "cell_type": "markdown",
      "metadata": {
        "id": "CPigBGEP9EV0"
      },
      "source": [
        "**Creating Filter Directly From Array**\r\n",
        "\r\n",
        "The above example is quite a common task in NumPy and NumPy provides a nice way to tackle it.\r\n",
        "\r\n",
        "We can directly substitute the array instead of the iterable variable in our condition and it will work just as we expect it to.\r\n",
        "\r\n",
        "**Example**\r\n",
        "\r\n",
        "Create a filter array that will return only values higher than 42:\r\n",
        "\r\n"
      ]
    },
    {
      "cell_type": "code",
      "metadata": {
        "colab": {
          "base_uri": "https://localhost:8080/"
        },
        "id": "UfEeAGr-9PJN",
        "outputId": "026568af-a797-48f2-ebe4-5d4e70d0e6f5"
      },
      "source": [
        "import numpy as np\r\n",
        "\r\n",
        "arr = np.array([41, 42, 43, 44])\r\n",
        "\r\n",
        "filter_arr = arr > 42\r\n",
        "\r\n",
        "newarr = arr[filter_arr]\r\n",
        "\r\n",
        "print(filter_arr)\r\n",
        "print(newarr)\r\n"
      ],
      "execution_count": null,
      "outputs": [
        {
          "output_type": "stream",
          "text": [
            "[False False  True  True]\n",
            "[43 44]\n"
          ],
          "name": "stdout"
        }
      ]
    },
    {
      "cell_type": "markdown",
      "metadata": {
        "id": "gw8aSJCR9aW0"
      },
      "source": [
        "**Example**\r\n",
        "\r\n",
        "Create a filter array that will return only even elements from the original array:\r\n",
        "\r\n"
      ]
    },
    {
      "cell_type": "code",
      "metadata": {
        "colab": {
          "base_uri": "https://localhost:8080/"
        },
        "id": "A4__OGpu9ck3",
        "outputId": "f06b83c4-ba93-4912-aa59-5f8688af88dd"
      },
      "source": [
        "import numpy as np\r\n",
        "\r\n",
        "arr = np.array([1, 2, 3, 4, 5, 6, 7])\r\n",
        "\r\n",
        "filter_arr = arr % 2 == 0\r\n",
        "\r\n",
        "newarr = arr[filter_arr]\r\n",
        "\r\n",
        "print(filter_arr)\r\n",
        "print(newarr)"
      ],
      "execution_count": null,
      "outputs": [
        {
          "output_type": "stream",
          "text": [
            "[False  True False  True False  True False]\n",
            "[2 4 6]\n"
          ],
          "name": "stdout"
        }
      ]
    },
    {
      "cell_type": "markdown",
      "metadata": {
        "id": "AKLgxt_M9uXa"
      },
      "source": [
        "**Random Numbers in NumPy**"
      ]
    },
    {
      "cell_type": "markdown",
      "metadata": {
        "id": "5iGYFj3y90Bu"
      },
      "source": [
        "**What is a Random Number?**\r\n",
        "\r\n",
        "Random number does NOT mean a different number every time. Random means something that can not be predicted logically.\r\n",
        "\r\n",
        "**Pseudo Random and True Random.**\r\n",
        "\r\n",
        "Computers work on programs, and programs are definitive set of instructions. So it means there must be some algorithm to generate a random number as well.\r\n",
        "\r\n",
        "If there is a program to generate random number it can be predicted, thus it is not truly random.\r\n",
        "\r\n",
        "Random numbers generated through a generation algorithm are called pseudo random.\r\n",
        "\r\n",
        "Can we make truly random numbers?\r\n",
        "\r\n",
        "Yes. In order to generate a truly random number on our computers we need to get the random data from some outside source. This outside source is generally our keystrokes, mouse movements, data on network etc.\r\n",
        "\r\n",
        "We do not need truly random numbers, unless its related to security (e.g. encryption keys) or the basis of application is the randomness (e.g. Digital roulette wheels).\r\n",
        "\r\n",
        "In this tutorial we will be using pseudo random numbers.\r\n",
        "\r\n",
        "**Generate Random Number**\r\n",
        "\r\n",
        "NumPy offers the random module to work with random numbers."
      ]
    },
    {
      "cell_type": "markdown",
      "metadata": {
        "id": "lDERyG4f-Fyc"
      },
      "source": [
        "**Example**\r\n",
        "\r\n",
        "Generate a random integer from 0 to 100:"
      ]
    },
    {
      "cell_type": "code",
      "metadata": {
        "colab": {
          "base_uri": "https://localhost:8080/"
        },
        "id": "L1Ul7x-2-JrP",
        "outputId": "e16b257c-b9f4-401e-b912-13e3372f0a63"
      },
      "source": [
        "from numpy import random\r\n",
        "\r\n",
        "x = random.randint(100)\r\n",
        "\r\n",
        "print(x)"
      ],
      "execution_count": null,
      "outputs": [
        {
          "output_type": "stream",
          "text": [
            "93\n"
          ],
          "name": "stdout"
        }
      ]
    },
    {
      "cell_type": "markdown",
      "metadata": {
        "id": "fD88IqEl-N5m"
      },
      "source": [
        "**Generate Random Float**\r\n",
        "\r\n",
        "The random module's rand() method returns a random float between 0 and 1.\r\n",
        "\r\n",
        "**Example**\r\n",
        "\r\n",
        "Generate a random float from 0 to 1:"
      ]
    },
    {
      "cell_type": "code",
      "metadata": {
        "colab": {
          "base_uri": "https://localhost:8080/"
        },
        "id": "NUhhl4ju-Tw8",
        "outputId": "9cc9870e-bac6-406c-e295-00fda37d67d4"
      },
      "source": [
        "from numpy import random\r\n",
        "\r\n",
        "x = random.rand()\r\n",
        "\r\n",
        "print(x)"
      ],
      "execution_count": null,
      "outputs": [
        {
          "output_type": "stream",
          "text": [
            "0.7314331306353123\n"
          ],
          "name": "stdout"
        }
      ]
    },
    {
      "cell_type": "markdown",
      "metadata": {
        "id": "_iEVqjv1-YPQ"
      },
      "source": [
        "**Generate Random Array**\r\n",
        "\r\n",
        "In NumPy we work with arrays, and you can use the two methods from the above examples to make random arrays.\r\n",
        "\r\n",
        "**Integers**\r\n",
        "\r\n",
        "The randint() method takes a size parameter where you can specify the shape of an array.\r\n",
        "\r\n",
        "**Example**\r\n",
        "\r\n",
        "Generate a 1-D array containing 5 random integers from 0 to 100:"
      ]
    },
    {
      "cell_type": "code",
      "metadata": {
        "colab": {
          "base_uri": "https://localhost:8080/"
        },
        "id": "8G4-Zlvh-gwb",
        "outputId": "2de30112-16dc-47ab-f4e2-617c063c62a6"
      },
      "source": [
        "from numpy import random\r\n",
        "\r\n",
        "x=random.randint(100, size=(5))\r\n",
        "\r\n",
        "print(x)"
      ],
      "execution_count": null,
      "outputs": [
        {
          "output_type": "stream",
          "text": [
            "[31 89  3 59  3]\n"
          ],
          "name": "stdout"
        }
      ]
    },
    {
      "cell_type": "markdown",
      "metadata": {
        "id": "Ahkvh6AF-lob"
      },
      "source": [
        "**Example**\r\n",
        "\r\n",
        "Generate a 2-D array with 3 rows, each row containing 5 random integers from 0 to 100:"
      ]
    },
    {
      "cell_type": "code",
      "metadata": {
        "colab": {
          "base_uri": "https://localhost:8080/"
        },
        "id": "WJ8QRXRr-qfH",
        "outputId": "51e80ed1-da8b-4cfc-97ac-84e5aed19f29"
      },
      "source": [
        "from numpy import random\r\n",
        "\r\n",
        "x = random.randint(100, size=(3, 5))\r\n",
        "\r\n",
        "print(x)"
      ],
      "execution_count": null,
      "outputs": [
        {
          "output_type": "stream",
          "text": [
            "[[11 17 97 11 83]\n",
            " [ 5 33 12 77 23]\n",
            " [60 88 75  1 50]]\n"
          ],
          "name": "stdout"
        }
      ]
    },
    {
      "cell_type": "markdown",
      "metadata": {
        "id": "Cmv2tEPO-tuU"
      },
      "source": [
        "**Floats**\r\n",
        "\r\n",
        "The rand() method also allows you to specify the shape of the array.\r\n",
        "\r\n",
        "**Example**\r\n",
        "\r\n",
        "Generate a 1-D array containing 5 random floats:"
      ]
    },
    {
      "cell_type": "code",
      "metadata": {
        "colab": {
          "base_uri": "https://localhost:8080/"
        },
        "id": "JgkDq3O3-1eB",
        "outputId": "b141a11a-8abe-41b6-9247-f46562aa0bd3"
      },
      "source": [
        "from numpy import random\r\n",
        "\r\n",
        "x = random.rand(5)\r\n",
        "\r\n",
        "print(x)"
      ],
      "execution_count": null,
      "outputs": [
        {
          "output_type": "stream",
          "text": [
            "[0.88971487 0.94106467 0.75399882 0.871258   0.23912538]\n"
          ],
          "name": "stdout"
        }
      ]
    },
    {
      "cell_type": "markdown",
      "metadata": {
        "id": "heOFLuXN-6v4"
      },
      "source": [
        "**Example**\r\n",
        "\r\n",
        "Generate a 2-D array with 3 rows, each row containing 5 random numbers:"
      ]
    },
    {
      "cell_type": "code",
      "metadata": {
        "colab": {
          "base_uri": "https://localhost:8080/"
        },
        "id": "v8OwuLmk-_6P",
        "outputId": "27430dcd-d81d-4646-fa50-37e23d5a52e0"
      },
      "source": [
        "from numpy import random\r\n",
        "\r\n",
        "x = random.rand(3, 5)\r\n",
        "\r\n",
        "print(x)"
      ],
      "execution_count": null,
      "outputs": [
        {
          "output_type": "stream",
          "text": [
            "[[0.76606523 0.56954929 0.04236565 0.05421981 0.38383561]\n",
            " [0.43237379 0.20172034 0.95620268 0.8025947  0.68593481]\n",
            " [0.58777097 0.46964234 0.29846798 0.53092027 0.9902757 ]]\n"
          ],
          "name": "stdout"
        }
      ]
    },
    {
      "cell_type": "markdown",
      "metadata": {
        "id": "01OeQPhT_DRS"
      },
      "source": [
        "**Generate Random Number From Array**\r\n",
        "\r\n",
        "The choice() method allows you to generate a random value based on an array of values.\r\n",
        "\r\n",
        "The choice() method takes an array as a parameter and randomly returns one of the values."
      ]
    },
    {
      "cell_type": "markdown",
      "metadata": {
        "id": "gSlyATr3_Isc"
      },
      "source": [
        "**Example**\r\n",
        "\r\n",
        "Return one of the values in an array:"
      ]
    },
    {
      "cell_type": "code",
      "metadata": {
        "colab": {
          "base_uri": "https://localhost:8080/"
        },
        "id": "-FPv5HP4_MN2",
        "outputId": "7eb8ded8-47bd-49c9-baf1-77322ab3481c"
      },
      "source": [
        "from numpy import random\r\n",
        "\r\n",
        "x = random.choice([3, 5, 7, 9])\r\n",
        "\r\n",
        "print(x)"
      ],
      "execution_count": null,
      "outputs": [
        {
          "output_type": "stream",
          "text": [
            "9\n"
          ],
          "name": "stdout"
        }
      ]
    },
    {
      "cell_type": "markdown",
      "metadata": {
        "id": "phaEkjsp_Qm2"
      },
      "source": [
        "The choice() method also allows you to return an array of values.\r\n",
        "\r\n",
        "Add a size parameter to specify the shape of the array."
      ]
    },
    {
      "cell_type": "markdown",
      "metadata": {
        "id": "h8IunTcG_Sd-"
      },
      "source": [
        "**Example**\r\n",
        "\r\n",
        "Generate a 2-D array that consists of the values in the array parameter (3, 5, 7, and 9):"
      ]
    },
    {
      "cell_type": "code",
      "metadata": {
        "colab": {
          "base_uri": "https://localhost:8080/"
        },
        "id": "95f8K0kf_X5v",
        "outputId": "c0a8f459-687c-4f6b-abe2-d38725f9f773"
      },
      "source": [
        "from numpy import random\r\n",
        "\r\n",
        "x = random.choice([3, 5, 7, 9], size=(3, 5))\r\n",
        "\r\n",
        "print(x)"
      ],
      "execution_count": null,
      "outputs": [
        {
          "output_type": "stream",
          "text": [
            "[[5 5 3 9 5]\n",
            " [3 7 3 3 5]\n",
            " [3 5 3 5 7]]\n"
          ],
          "name": "stdout"
        }
      ]
    }
  ]
}
{
  "nbformat": 4,
  "nbformat_minor": 0,
  "metadata": {
    "colab": {
      "name": "Measures of Central Tendency",
      "provenance": [],
      "collapsed_sections": []
    },
    "kernelspec": {
      "name": "python3",
      "display_name": "Python 3"
    }
  },
  "cells": [
    {
      "cell_type": "markdown",
      "metadata": {
        "id": "sYXh5t0mE4xd"
      },
      "source": [
        "# **Practical 2- Descriptive Statistics**\r\n",
        "\r\n",
        "**1) Measures of Central Tendency**\r\n",
        "  1. Mean\r\n",
        "  2. Median\r\n",
        "  3. Mode\r\n",
        "\r\n",
        "**2) Measures of Variability**\r\n",
        "  1. Standard Deviation\r\n",
        "  2. Variance\r\n",
        "  3. Min and Max Variables\r\n",
        "  4. Skewness and Kurtosis\r\n",
        "  5. Range\r\n",
        "  6. Percentiles/Quartiles\r\n",
        "  7. Box Plots\r\n",
        "\r\n",
        "\r\n",
        "\r\n"
      ]
    },
    {
      "cell_type": "markdown",
      "metadata": {
        "id": "0mBSkrqBdfT1"
      },
      "source": [
        "In Machine Learning (and in mathematics) there are often three values that interests us:\r\n",
        "\r\n",
        "**Mean** - The average value\r\n",
        "\r\n",
        "**Median** - The mid point value\r\n",
        "\r\n",
        "**Mode** - The most common value\r\n",
        "\r\n",
        "# **Mean**\r\n",
        "\r\n",
        "The mean value is the average value.To calculate the mean, find the sum of all values, and divide the sum by the number of values.\r\n",
        "\r\n",
        "Formula : ∑X / N, \r\n",
        "\r\n",
        "where X is the array elements and N is the total number of elements.\r\n",
        "\r\n",
        "The **NumPy** module has a method for this.\r\n",
        "\r\n",
        "Syntax:  numpy.mean(arr)\r\n",
        "\r\n",
        "Example 1 : We have registered the speed of 13 cars . Use the NumPy **mean()** method to find the average speed:\r\n",
        "\r\n",
        "speed = [99,86,87,88,111,86,103,87,94,78,77,85,86]"
      ]
    },
    {
      "cell_type": "code",
      "metadata": {
        "colab": {
          "base_uri": "https://localhost:8080/"
        },
        "id": "xQfw8XHue2BM",
        "outputId": "db258f11-b612-445a-cdad-f074c90d99bc"
      },
      "source": [
        "import numpy\r\n",
        "\r\n",
        "speed = [99,86,87,88,111,86,103,87,94,78,77,85,86]\r\n",
        "\r\n",
        "x = numpy.mean(speed)\r\n",
        "\r\n",
        "print(x)"
      ],
      "execution_count": null,
      "outputs": [
        {
          "output_type": "stream",
          "text": [
            "89.76923076923077\n"
          ],
          "name": "stdout"
        }
      ]
    },
    {
      "cell_type": "markdown",
      "metadata": {
        "id": "ttDilWQ-e5WQ"
      },
      "source": [
        "Example 2: Considering any huge dataset, use the NumPy mean() method to find the average along any axis."
      ]
    },
    {
      "cell_type": "code",
      "metadata": {
        "id": "pJqWy5tpE2q8"
      },
      "source": [
        "import pandas as pd\r\n",
        "import numpy as np\r\n",
        "drinks = pd.read_csv('https://raw.githubusercontent.com/mkareru/Dataset1/main/README.md/dataset')\r\n",
        "drinks"
      ],
      "execution_count": null,
      "outputs": []
    },
    {
      "cell_type": "code",
      "metadata": {
        "id": "BWLnlcBQ6HYE"
      },
      "source": [
        "df = np.mean(drinks, axis=0)\r\n",
        "print('Average alcohol serving accross each continent are as below')\r\n",
        "df"
      ],
      "execution_count": null,
      "outputs": []
    },
    {
      "cell_type": "code",
      "metadata": {
        "colab": {
          "base_uri": "https://localhost:8080/"
        },
        "id": "WCEvpoez78GH",
        "outputId": "062714b6-0d4e-406f-8d88-f6f56dd32023"
      },
      "source": [
        "import pandas as pd\r\n",
        "df = pd.read_csv('https://raw.githubusercontent.com/mkareru/Dataset1/main/README.md/cardata')\r\n",
        "print(\"\\n----------- Calculate Mean -----------\\n\")\r\n",
        "print(df.mean())\r\n",
        " \r\n",
        "print(\"\\n----------- Calculate Median -----------\\n\")\r\n",
        "print(df.median())\r\n",
        " \r\n",
        "print(\"\\n----------- Calculate Mode -----------\\n\")\r\n",
        "print(df.mode())"
      ],
      "execution_count": null,
      "outputs": [
        {
          "output_type": "stream",
          "text": [
            "\n",
            "----------- Calculate Mean -----------\n",
            "\n",
            "Mahindra      19.1875\n",
            "Suzuki        11.5925\n",
            "Renault       16.2125\n",
            "Tata          17.1850\n",
            "Volkswagan    17.0375\n",
            "Honda         12.3650\n",
            "ferrari       11.1425\n",
            "BMW           16.3300\n",
            "Skoda         16.5925\n",
            "Audi          15.9725\n",
            "dtype: float64\n",
            "\n",
            "----------- Calculate Median -----------\n",
            "\n",
            "Mahindra      19.425\n",
            "Suzuki        11.435\n",
            "Renault       16.945\n",
            "Tata          17.270\n",
            "Volkswagan    17.175\n",
            "Honda         12.450\n",
            "ferrari       11.140\n",
            "BMW           16.480\n",
            "Skoda         16.615\n",
            "Audi          16.275\n",
            "dtype: float64\n",
            "\n",
            "----------- Calculate Mode -----------\n",
            "\n",
            "           Cars  Mahindra  Suzuki  Renault  ...  ferrari    BMW  Skoda   Audi\n",
            "0  2001 to 2005     19.45    11.4     17.4  ...    11.14  16.48  16.78  16.45\n",
            "1  2006 to 2010       NaN     NaN      NaN  ...      NaN    NaN    NaN    NaN\n",
            "2  2011 to 2015       NaN     NaN      NaN  ...      NaN    NaN    NaN    NaN\n",
            "3  2015 to 2020       NaN     NaN      NaN  ...      NaN    NaN    NaN    NaN\n",
            "\n",
            "[4 rows x 11 columns]\n"
          ],
          "name": "stdout"
        }
      ]
    },
    {
      "cell_type": "markdown",
      "metadata": {
        "id": "LpSp3dmMxLhO"
      },
      "source": [
        "# Median\r\n",
        "\r\n",
        "*   The median value is the value in the middle, after you have sorted all the values: \r\n",
        "*   It is important that the numbers are sorted before you can find the median.\r\n",
        "\r\n",
        "Example 1: We have registered the speed of 13 cars . Use the NumPy **median()** method to find the Mid-value (median) of those data.\r\n",
        "\r\n",
        "speed = [99,86,87,88,111,86,103,87,94,78,77,85,86]"
      ]
    },
    {
      "cell_type": "code",
      "metadata": {
        "colab": {
          "base_uri": "https://localhost:8080/"
        },
        "id": "sPDXVejYyXEs",
        "outputId": "d1d1f21b-c89d-4995-a295-a626f141d1a8"
      },
      "source": [
        "import numpy\r\n",
        "\r\n",
        "speed = [99,86,87,88,111,86,103,87,94,78,77,85,86]\r\n",
        "\r\n",
        "x = numpy.median(speed)\r\n",
        "\r\n",
        "print(x)"
      ],
      "execution_count": null,
      "outputs": [
        {
          "output_type": "stream",
          "text": [
            "87.0\n"
          ],
          "name": "stdout"
        }
      ]
    },
    {
      "cell_type": "markdown",
      "metadata": {
        "id": "GZ7_M8k5zALi"
      },
      "source": [
        "Example 2: Considering a huge dataset, use the NumPy median() method to find the middle value of any column."
      ]
    },
    {
      "cell_type": "code",
      "metadata": {
        "colab": {
          "base_uri": "https://localhost:8080/",
          "height": 166
        },
        "id": "xExWxCpe0Vy9",
        "outputId": "96ef5160-2eac-48f7-9606-b63d37c3b9a3"
      },
      "source": [
        "import pandas as pd\r\n",
        "import numpy as np\r\n",
        "drinks = pd.read_csv('https://raw.githubusercontent.com/mkareru/Dataset1/main/README.md/dataset')\r\n",
        "drinks.head() # Display first five records"
      ],
      "execution_count": null,
      "outputs": [
        {
          "output_type": "execute_result",
          "data": {
            "text/html": [
              "<div>\n",
              "<style scoped>\n",
              "    .dataframe tbody tr th:only-of-type {\n",
              "        vertical-align: middle;\n",
              "    }\n",
              "\n",
              "    .dataframe tbody tr th {\n",
              "        vertical-align: top;\n",
              "    }\n",
              "\n",
              "    .dataframe thead th {\n",
              "        text-align: right;\n",
              "    }\n",
              "</style>\n",
              "<table border=\"1\" class=\"dataframe\">\n",
              "  <thead>\n",
              "    <tr style=\"text-align: right;\">\n",
              "      <th></th>\n",
              "      <th>Cars</th>\n",
              "      <th>Mahindra</th>\n",
              "      <th>Suzuki</th>\n",
              "      <th>Renault</th>\n",
              "      <th>Tata</th>\n",
              "      <th>Volkswagan</th>\n",
              "      <th>Honda</th>\n",
              "      <th>ferrari</th>\n",
              "      <th>BMW</th>\n",
              "      <th>Skoda</th>\n",
              "      <th>Audi</th>\n",
              "    </tr>\n",
              "  </thead>\n",
              "  <tbody>\n",
              "    <tr>\n",
              "      <th>0</th>\n",
              "      <td>2001 to 2005</td>\n",
              "      <td>18.45</td>\n",
              "      <td>11.47</td>\n",
              "      <td>13.56</td>\n",
              "      <td>16.44</td>\n",
              "      <td>16.35</td>\n",
              "      <td>11.56</td>\n",
              "      <td>10.89</td>\n",
              "      <td>15.46</td>\n",
              "      <td>16.78</td>\n",
              "      <td>14.89</td>\n",
              "    </tr>\n",
              "    <tr>\n",
              "      <th>1</th>\n",
              "      <td>2006 to 2010</td>\n",
              "      <td>19.45</td>\n",
              "      <td>11.40</td>\n",
              "      <td>16.49</td>\n",
              "      <td>16.10</td>\n",
              "      <td>17.45</td>\n",
              "      <td>12.45</td>\n",
              "      <td>11.14</td>\n",
              "      <td>16.48</td>\n",
              "      <td>16.36</td>\n",
              "      <td>16.10</td>\n",
              "    </tr>\n",
              "    <tr>\n",
              "      <th>2</th>\n",
              "      <td>2011 to 2015</td>\n",
              "      <td>19.40</td>\n",
              "      <td>12.10</td>\n",
              "      <td>17.40</td>\n",
              "      <td>18.10</td>\n",
              "      <td>16.90</td>\n",
              "      <td>12.45</td>\n",
              "      <td>11.40</td>\n",
              "      <td>16.90</td>\n",
              "      <td>16.45</td>\n",
              "      <td>16.45</td>\n",
              "    </tr>\n",
              "    <tr>\n",
              "      <th>3</th>\n",
              "      <td>2015 to 2020</td>\n",
              "      <td>19.45</td>\n",
              "      <td>11.40</td>\n",
              "      <td>17.40</td>\n",
              "      <td>18.10</td>\n",
              "      <td>17.45</td>\n",
              "      <td>13.00</td>\n",
              "      <td>11.14</td>\n",
              "      <td>16.48</td>\n",
              "      <td>16.78</td>\n",
              "      <td>16.45</td>\n",
              "    </tr>\n",
              "  </tbody>\n",
              "</table>\n",
              "</div>"
            ],
            "text/plain": [
              "           Cars  Mahindra  Suzuki  Renault  ...  ferrari    BMW  Skoda   Audi\n",
              "0  2001 to 2005     18.45   11.47    13.56  ...    10.89  15.46  16.78  14.89\n",
              "1  2006 to 2010     19.45   11.40    16.49  ...    11.14  16.48  16.36  16.10\n",
              "2  2011 to 2015     19.40   12.10    17.40  ...    11.40  16.90  16.45  16.45\n",
              "3  2015 to 2020     19.45   11.40    17.40  ...    11.14  16.48  16.78  16.45\n",
              "\n",
              "[4 rows x 11 columns]"
            ]
          },
          "metadata": {
            "tags": []
          },
          "execution_count": 26
        }
      ]
    },
    {
      "cell_type": "code",
      "metadata": {
        "colab": {
          "base_uri": "https://localhost:8080/"
        },
        "id": "_4PBsTmn6xtE",
        "outputId": "cb56ac3d-04f7-47b9-cba0-6d35814f6c39"
      },
      "source": [
        "bs = np.median(drinks['beer_servings']); ss = np.median(drinks['spirit_servings']);\r\n",
        "ws = np.median(drinks['wine_servings']); tl = np.median(drinks['total_litres_of_pure_alcohol']);\r\n",
        "print('mid-value of each drinks Serving accross all Continent:')\r\n",
        "print('Beer Serving =', bs)\r\n",
        "print('spirit servings =', ss)\r\n",
        "print('wine Serving =', ws)\r\n",
        "print('total liters alcohol accross all Continent =', tl)"
      ],
      "execution_count": null,
      "outputs": [
        {
          "output_type": "stream",
          "text": [
            "mid-value of each drinks Serving accross all Continent:\n",
            "Beer Serving = 76.0\n",
            "spirit servings = 56.0\n",
            "wine Serving = 8.0\n",
            "total liters alcohol accross all Continent = 4.2\n"
          ],
          "name": "stdout"
        }
      ]
    },
    {
      "cell_type": "markdown",
      "metadata": {
        "id": "qMwE0p2fAl6U"
      },
      "source": [
        "# Mode\r\n",
        "\r\n",
        "*   The Mode value is the value that appears the most number of times.\r\n",
        "*   The SciPy module has a method for this - **SciPy mode()**\r\n",
        "\r\n",
        "**Example 1:** We have registered the speed of 13 cars . Use the **SciPy mode()**method to find the speed that appears the most:\r\n",
        "\r\n",
        "speed = [99,86,87,88,111,86,103,87,94,78,77,85,86]"
      ]
    },
    {
      "cell_type": "code",
      "metadata": {
        "colab": {
          "base_uri": "https://localhost:8080/"
        },
        "id": "UOjey3t7BbKa",
        "outputId": "db189bb9-264b-43d4-9e2b-e881d96fb279"
      },
      "source": [
        "import numpy as np\r\n",
        "from scipy import stats\r\n",
        "\r\n",
        "speed = [99,86,87,88,111,86,103,87,94,78,77,85,86]\r\n",
        "\r\n",
        "x = statistics.mode(speed)\r\n",
        "\r\n",
        "print(x)"
      ],
      "execution_count": null,
      "outputs": [
        {
          "output_type": "stream",
          "text": [
            "86\n"
          ],
          "name": "stdout"
        }
      ]
    },
    {
      "cell_type": "markdown",
      "metadata": {
        "id": "lMO-rA2OCUtQ"
      },
      "source": [
        "Example 2: Considering a huge dataset, use the **SciPy Mode()** method to find the continent that appears the most."
      ]
    },
    {
      "cell_type": "code",
      "metadata": {
        "colab": {
          "base_uri": "https://localhost:8080/",
          "height": 195
        },
        "id": "2HXsksRACoHh",
        "outputId": "7177bd72-a2b9-40fc-dd1a-12fa554b0d9d"
      },
      "source": [
        "import pandas as pd\r\n",
        "import statistics\r\n",
        "drinks = pd.read_csv('https://raw.githubusercontent.com/mkareru/Dataset1/main/README.md/dataset')\r\n",
        "drinks.head() # Display first five records"
      ],
      "execution_count": null,
      "outputs": [
        {
          "output_type": "execute_result",
          "data": {
            "text/html": [
              "<div>\n",
              "<style scoped>\n",
              "    .dataframe tbody tr th:only-of-type {\n",
              "        vertical-align: middle;\n",
              "    }\n",
              "\n",
              "    .dataframe tbody tr th {\n",
              "        vertical-align: top;\n",
              "    }\n",
              "\n",
              "    .dataframe thead th {\n",
              "        text-align: right;\n",
              "    }\n",
              "</style>\n",
              "<table border=\"1\" class=\"dataframe\">\n",
              "  <thead>\n",
              "    <tr style=\"text-align: right;\">\n",
              "      <th></th>\n",
              "      <th>country</th>\n",
              "      <th>beer_servings</th>\n",
              "      <th>spirit_servings</th>\n",
              "      <th>wine_servings</th>\n",
              "      <th>total_litres_of_pure_alcohol</th>\n",
              "      <th>continent</th>\n",
              "    </tr>\n",
              "  </thead>\n",
              "  <tbody>\n",
              "    <tr>\n",
              "      <th>0</th>\n",
              "      <td>Afghanistan</td>\n",
              "      <td>0</td>\n",
              "      <td>0</td>\n",
              "      <td>0</td>\n",
              "      <td>0.0</td>\n",
              "      <td>AS</td>\n",
              "    </tr>\n",
              "    <tr>\n",
              "      <th>1</th>\n",
              "      <td>Albania</td>\n",
              "      <td>89</td>\n",
              "      <td>132</td>\n",
              "      <td>54</td>\n",
              "      <td>4.9</td>\n",
              "      <td>EU</td>\n",
              "    </tr>\n",
              "    <tr>\n",
              "      <th>2</th>\n",
              "      <td>Algeria</td>\n",
              "      <td>25</td>\n",
              "      <td>0</td>\n",
              "      <td>14</td>\n",
              "      <td>0.7</td>\n",
              "      <td>AF</td>\n",
              "    </tr>\n",
              "    <tr>\n",
              "      <th>3</th>\n",
              "      <td>Andorra</td>\n",
              "      <td>245</td>\n",
              "      <td>138</td>\n",
              "      <td>312</td>\n",
              "      <td>12.4</td>\n",
              "      <td>EU</td>\n",
              "    </tr>\n",
              "    <tr>\n",
              "      <th>4</th>\n",
              "      <td>Angola</td>\n",
              "      <td>217</td>\n",
              "      <td>57</td>\n",
              "      <td>45</td>\n",
              "      <td>5.9</td>\n",
              "      <td>AF</td>\n",
              "    </tr>\n",
              "  </tbody>\n",
              "</table>\n",
              "</div>"
            ],
            "text/plain": [
              "       country  beer_servings  ...  total_litres_of_pure_alcohol  continent\n",
              "0  Afghanistan              0  ...                           0.0         AS\n",
              "1      Albania             89  ...                           4.9         EU\n",
              "2      Algeria             25  ...                           0.7         AF\n",
              "3      Andorra            245  ...                          12.4         EU\n",
              "4       Angola            217  ...                           5.9         AF\n",
              "\n",
              "[5 rows x 6 columns]"
            ]
          },
          "metadata": {
            "tags": []
          },
          "execution_count": 13
        }
      ]
    },
    {
      "cell_type": "code",
      "metadata": {
        "colab": {
          "base_uri": "https://localhost:8080/"
        },
        "id": "rU-Gw4olCwC8",
        "outputId": "6c50765a-9deb-444d-d2f0-38c3fd9b04eb"
      },
      "source": [
        "continent = statistics.mode(drinks['continent'])\r\n",
        "print('Continent with most number of occurance in the given dataset is', continent)"
      ],
      "execution_count": null,
      "outputs": [
        {
          "output_type": "stream",
          "text": [
            "Continent with most number of occurance in the given dataset is AF\n"
          ],
          "name": "stdout"
        }
      ]
    }
  ]
}
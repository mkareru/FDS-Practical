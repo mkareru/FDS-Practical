{
  "nbformat": 4,
  "nbformat_minor": 0,
  "metadata": {
    "colab": {
      "name": "Expected value.ipynb",
      "provenance": []
    },
    "kernelspec": {
      "name": "python3",
      "display_name": "Python 3"
    }
  },
  "cells": [
    {
      "cell_type": "code",
      "metadata": {
        "colab": {
          "base_uri": "https://localhost:8080/"
        },
        "id": "ezrFmGKg4P3a",
        "outputId": "c0accad7-2d03-4fb1-97b8-eec150ac7134"
      },
      "source": [
        "#What is the expected value if there is $100 (Total Value) in the pot, and your probability of winning the pot is 0.75?\n",
        "\n",
        "import math \n",
        "# Initialize `pot` and `probability` variables\n",
        "pot = 100\n",
        "probability = 0.75\n",
        "\n",
        "# Determine expected value\n",
        "expected_value = pot * probability\n",
        "print(expected_value)"
      ],
      "execution_count": null,
      "outputs": [
        {
          "output_type": "stream",
          "text": [
            "75.0\n"
          ],
          "name": "stdout"
        }
      ]
    }
  ]
}